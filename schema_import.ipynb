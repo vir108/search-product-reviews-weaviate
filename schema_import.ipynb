{
 "cells": [
  {
   "cell_type": "code",
   "execution_count": 8,
   "metadata": {},
   "outputs": [],
   "source": [
    "#import pandas as pd\n",
    "import json\n",
    "import numpy as np\n",
    "from tqdm import tqdm_notebook as tqdm\n",
    "import uuid\n",
    "import weaviate \n",
    "from weaviate.batch import Batch \n",
    "import helper\n",
    "import weaviate\n",
    "\n",
    "# initiate the Weaviate client\n",
    "client = weaviate.Client(\"http://localhost:8081\")\n",
    "client.timeout_config = (3, 200)\n"
   ]
  },
  {
   "cell_type": "code",
   "execution_count": 11,
   "metadata": {},
   "outputs": [
    {
     "name": "stderr",
     "output_type": "stream",
     "text": [
      "/var/folders/4c/x3415rcx4pb9drxwpfyzk32h0000gn/T/ipykernel_72086/3156423274.py:4: TqdmDeprecationWarning: This function will be removed in tqdm==5.0.0\n",
      "Please use `tqdm.notebook.tqdm` instead of `tqdm.tqdm_notebook`\n",
      "  for l in tqdm(f):\n"
     ]
    },
    {
     "data": {
      "application/vnd.jupyter.widget-view+json": {
       "model_id": "05da796d162b4d849b55215154a5db2e",
       "version_major": 2,
       "version_minor": 0
      },
      "text/plain": [
       "0it [00:00, ?it/s]"
      ]
     },
     "metadata": {},
     "output_type": "display_data"
    }
   ],
   "source": [
    "# load all metadata\n",
    "productData = []\n",
    "with open('data/sample_meta_Home_and_Kitchen.json', 'r') as f:\n",
    "    for l in tqdm(f):\n",
    "        productData.append(json.loads(l))\n"
   ]
  },
  {
   "cell_type": "code",
   "execution_count": 2,
   "metadata": {},
   "outputs": [],
   "source": [
    "client.schema.delete_all() # delete all classes\n",
    "import weaviate\n",
    "\n",
    "# skipped product \"brand\", it can be it's own class, for simplicity, skip it for now \n",
    "# skipped product \"category\" list of strings (text?) not sure how to type it yet, or if category should be it's own class?\n",
    "# skipped \"similar_item\"\n",
    "\n",
    "schema = {\n",
    "    \"classes\": [\n",
    "     {\n",
    "            # name of the class\n",
    "            \"class\": \"Product\",\n",
    "            # a description of what this class represents\n",
    "            \"description\": \"A Product class to store the product information and its reviewers\",\n",
    "            # class properties\n",
    "            \"properties\": [\n",
    "                {\n",
    "                    \"name\": \"asin\",\n",
    "                    \"dataType\": [\"string\"],\n",
    "                    \"description\": \"product id from amazon\", \n",
    "                },\n",
    "                {\n",
    "                    \"name\": \"title\",\n",
    "                    \"dataType\": [\"text\"],\n",
    "                    \"description\": \"The title of the product\", \n",
    "                },{\n",
    "                    \"dataType\": [\"number\"],\n",
    "                    \"description\": \"The price product in dollars\",\n",
    "                    \"name\": \"price\"\n",
    "                },{\n",
    "                    \"name\": \"description\",\n",
    "                    \"dataType\": [\"text\"],\n",
    "                    \"description\": \"The first item in description  of the product\", \n",
    "                }\n",
    "                \n",
    "            ]\n",
    "        }\n",
    "            ]\n",
    "}\n",
    "\n",
    "client.schema.create(schema)"
   ]
  },
  {
   "cell_type": "code",
   "execution_count": 15,
   "metadata": {},
   "outputs": [],
   "source": [
    "def prettify(json_dict): \n",
    "    print(json.dumps(json_dict, indent=2))\n",
    "\n",
    "#prettify(client.schema.get())"
   ]
  },
  {
   "cell_type": "code",
   "execution_count": 12,
   "metadata": {},
   "outputs": [
    {
     "data": {
      "text/plain": [
       "'fe664d69-5fa5-52ef-b2c9-0014f95f30e5'"
      ]
     },
     "execution_count": 12,
     "metadata": {},
     "output_type": "execute_result"
    }
   ],
   "source": [
    "helper.generate_uuid('product', productData[350]['title']+productData[350]['asin'])"
   ]
  },
  {
   "cell_type": "code",
   "execution_count": 18,
   "metadata": {},
   "outputs": [
    {
     "data": {
      "text/plain": [
       "'ty: 5 bags and filters Bosch G bag BBZ51AFG1U Type G Three layers for better dust retention. 99.97% of all particles remain in the dust bag. Replaces quickly, cleanly and easily. As you pull the tab to remove the bag it automatically closes and seals in the dirt. 1 gallon / 3.5 liter capacity.BBZ51AFG1U Type G Fits BSA2... series canister vacuum cleaner'"
      ]
     },
     "execution_count": 18,
     "metadata": {},
     "output_type": "execute_result"
    }
   ],
   "source": [
    "productData[350]['description'][0]"
   ]
  },
  {
   "cell_type": "code",
   "execution_count": null,
   "metadata": {},
   "outputs": [],
   "source": [
    "from weaviate.batch import Batch # for the typing purposes\n",
    "\n",
    "\n",
    "def add_product(batch: Batch, product_data: dict) -> str:\n",
    "    product_object = {\n",
    "        'asin': product_data['asin'] if 'asin' in product_data else '',\n",
    "        'title': product_data['title'] if 'title' in product_data else '',\n",
    "        #'main_cat': product_data['main_cat'] if 'main_cat' in product_data else '',\n",
    "        'description':product_data['description'][0] if 'description' in product_data else '',               \n",
    "        #'feature': product_data['feature'] if 'feature' in product_data else '',\n",
    "        'price': float(product_data['price'].replace(\"$\",\"\").replace(\",\",\"\")) if 'price' in product_data else float(\"NaN\")\n",
    "    }\n",
    "    # generate an UUID for the Author\n",
    "    product_id = generate_uuid('product', product_data['title']+product_data['asin'])\n",
    "   \n",
    "    # add article to the batch\n",
    "    batch.add_data_object(  # old way was batch.add(...)\n",
    "        data_object=product_object,\n",
    "        class_name='Product',\n",
    "        uuid=product_id\n",
    "    )\n",
    "    \n",
    "    return product_id\n"
   ]
  }
 ],
 "metadata": {
  "interpreter": {
   "hash": "2bc68644eae3242e56bd75e747837eb550b8c90cd0d79155548d146508e9d1e3"
  },
  "kernelspec": {
   "display_name": "Python 3.8.13",
   "language": "python",
   "name": "python3"
  },
  "language_info": {
   "codemirror_mode": {
    "name": "ipython",
    "version": 3
   },
   "file_extension": ".py",
   "mimetype": "text/x-python",
   "name": "python",
   "nbconvert_exporter": "python",
   "pygments_lexer": "ipython3",
   "version": "3.8.13"
  },
  "orig_nbformat": 4
 },
 "nbformat": 4,
 "nbformat_minor": 2
}
