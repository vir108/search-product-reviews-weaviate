{
 "cells": [
  {
   "cell_type": "code",
   "execution_count": 105,
   "metadata": {},
   "outputs": [],
   "source": [
    "#import pandas as pd\n",
    "import json\n",
    "import numpy as np\n",
    "from tqdm import tqdm_notebook as tqdm\n",
    "import uuid\n",
    "import weaviate \n",
    "from weaviate.batch import Batch \n",
    "import helper\n",
    "import weaviate\n",
    "\n",
    "# initiate the Weaviate client\n",
    "client = weaviate.Client(\"http://localhost:8081\")\n",
    "client.timeout_config = (3, 200)\n"
   ]
  },
  {
   "cell_type": "markdown",
   "metadata": {},
   "source": [
    "# load all review data \n",
    "reviewData = []\n",
    "with open('data/sample_Home_and_Kitchen_5.json', 'r') as f:\n",
    "    for l in tqdm(f):\n",
    "        reviewData.append(json.loads(l))"
   ]
  },
  {
   "cell_type": "code",
   "execution_count": 108,
   "metadata": {},
   "outputs": [
    {
     "name": "stderr",
     "output_type": "stream",
     "text": [
      "/var/folders/4c/x3415rcx4pb9drxwpfyzk32h0000gn/T/ipykernel_72623/3562440711.py:5: TqdmDeprecationWarning: This function will be removed in tqdm==5.0.0\n",
      "Please use `tqdm.notebook.tqdm` instead of `tqdm.tqdm_notebook`\n",
      "  for l in tqdm(f):\n"
     ]
    },
    {
     "data": {
      "application/vnd.jupyter.widget-view+json": {
       "model_id": "35e5b532f27541bb986736f3d801fd9b",
       "version_major": 2,
       "version_minor": 0
      },
      "text/plain": [
       "0it [00:00, ?it/s]"
      ]
     },
     "metadata": {},
     "output_type": "display_data"
    }
   ],
   "source": [
    "# load all metadata\n",
    "count = 0\n",
    "data = []\n",
    "with open('data/sample_meta_Home_and_Kitchen.json', 'r') as f:\n",
    "    for l in tqdm(f):\n",
    "        data.append(json.loads(l))\n",
    "        count = count + 1\n",
    "        if count >= 3000:\n",
    "          break\n",
    "\n",
    "\n",
    "productData = []\n",
    "\n",
    "for i in range(0, 3000):\n",
    "    hasprice=\"price\" in data[i]\n",
    "    hastitle=\"title\" in data[i]\n",
    "    hasdescription=\"description\" in data[i]\n",
    "    hasmaincat='main_cat' in data[i]\n",
    "    #print(i,  (hasprice and hastitle and hasdescription))\n",
    "    if (hasprice and hastitle and hasdescription and hasmaincat)==True:\n",
    "        if len(data[i]['title'])<200:\n",
    "            productData.append(data[i])\n",
    "    else:\n",
    "        continue\n",
    "\n",
    "\n",
    "for i in range(0, len(productData)): \n",
    "   productData[i]['description']=\" \".join(productData[i]['description'])\n",
    "   cleaned_text = productData[i]['description'].replace(\"\\\\\", \"\")\n",
    "   productData[i]['description']=cleaned_text\n",
    "   productData[i]['price']=productData[i]['price'].replace(\"$\",\"\").replace(\",\",\"\")\n",
    "   productData[i]['price']=float(productData[i]['price'])\n",
    "\n",
    "\n"
   ]
  },
  {
   "cell_type": "code",
   "execution_count": null,
   "metadata": {},
   "outputs": [],
   "source": [
    "## here needs a step to clean and process / filter out data \n",
    "## len(productData['title']) <100 "
   ]
  },
  {
   "cell_type": "code",
   "execution_count": 112,
   "metadata": {},
   "outputs": [],
   "source": [
    "client.schema.delete_all() # delete all classes"
   ]
  },
  {
   "cell_type": "code",
   "execution_count": 113,
   "metadata": {},
   "outputs": [],
   "source": [
    "import weaviate\n",
    "\n",
    "# skipped product \"brand\", it can be it's own class, for simplicity, skip it for now \n",
    "# skipped product \"category\" list of strings (text?) not sure how to type it yet, or if category should be it's own class?\n",
    "# skipped \"similar_item\"\n",
    "schema = {\n",
    "    \"classes\": [\n",
    "        {\n",
    "            # name of the class\n",
    "            \"class\": \"Product\",\n",
    "            # class properties\n",
    "            \"properties\": [\n",
    "                {\n",
    "                    \"name\": \"asin\",\n",
    "                    \"dataType\": [\"string\"]\n",
    "                },\n",
    "                {\n",
    "                    \"name\": \"title\",\n",
    "                    \"dataType\": [\"text\"]\n",
    "                },\n",
    "                {\n",
    "                    \"dataType\": [\"number\"],\n",
    "                    \"description\": \"The price product in dollars\",\n",
    "                    \"name\": \"price\"\n",
    "                },\n",
    "                {\n",
    "                    \"dataType\": [\"text\"],\n",
    "                    \"name\": \"productDescription\",\n",
    "                    \"description\": \"description of product\"\n",
    "\n",
    "                },\n",
    "                {\n",
    "                    \"dataType\": [\"string\"],\n",
    "                    \"name\": \"mainCat\",\n",
    "                    \"description\": \"main category of the product in amazon \"\n",
    "                }\n",
    "            ]\n",
    "        }\n",
    "    ]\n",
    "}\n",
    "client.schema.create(schema)"
   ]
  },
  {
   "cell_type": "code",
   "execution_count": 114,
   "metadata": {},
   "outputs": [
    {
     "name": "stdout",
     "output_type": "stream",
     "text": [
      "{\n",
      "  \"classes\": [\n",
      "    {\n",
      "      \"class\": \"Product\",\n",
      "      \"invertedIndexConfig\": {\n",
      "        \"cleanupIntervalSeconds\": 60\n",
      "      },\n",
      "      \"moduleConfig\": {\n",
      "        \"text2vec-transformers\": {\n",
      "          \"poolingStrategy\": \"masked_mean\",\n",
      "          \"vectorizeClassName\": true\n",
      "        }\n",
      "      },\n",
      "      \"properties\": [\n",
      "        {\n",
      "          \"dataType\": [\n",
      "            \"string\"\n",
      "          ],\n",
      "          \"moduleConfig\": {\n",
      "            \"text2vec-transformers\": {\n",
      "              \"skip\": false,\n",
      "              \"vectorizePropertyName\": false\n",
      "            }\n",
      "          },\n",
      "          \"name\": \"asin\"\n",
      "        },\n",
      "        {\n",
      "          \"dataType\": [\n",
      "            \"text\"\n",
      "          ],\n",
      "          \"moduleConfig\": {\n",
      "            \"text2vec-transformers\": {\n",
      "              \"skip\": false,\n",
      "              \"vectorizePropertyName\": false\n",
      "            }\n",
      "          },\n",
      "          \"name\": \"title\"\n",
      "        },\n",
      "        {\n",
      "          \"dataType\": [\n",
      "            \"number\"\n",
      "          ],\n",
      "          \"description\": \"The price product in dollars\",\n",
      "          \"moduleConfig\": {\n",
      "            \"text2vec-transformers\": {\n",
      "              \"skip\": false,\n",
      "              \"vectorizePropertyName\": false\n",
      "            }\n",
      "          },\n",
      "          \"name\": \"price\"\n",
      "        },\n",
      "        {\n",
      "          \"dataType\": [\n",
      "            \"text\"\n",
      "          ],\n",
      "          \"description\": \"description of product\",\n",
      "          \"moduleConfig\": {\n",
      "            \"text2vec-transformers\": {\n",
      "              \"skip\": false,\n",
      "              \"vectorizePropertyName\": false\n",
      "            }\n",
      "          },\n",
      "          \"name\": \"productDescription\"\n",
      "        },\n",
      "        {\n",
      "          \"dataType\": [\n",
      "            \"string\"\n",
      "          ],\n",
      "          \"description\": \"main category of the product in amazon \",\n",
      "          \"moduleConfig\": {\n",
      "            \"text2vec-transformers\": {\n",
      "              \"skip\": false,\n",
      "              \"vectorizePropertyName\": false\n",
      "            }\n",
      "          },\n",
      "          \"name\": \"mainCat\"\n",
      "        }\n",
      "      ],\n",
      "      \"shardingConfig\": {\n",
      "        \"virtualPerPhysical\": 128,\n",
      "        \"desiredCount\": 1,\n",
      "        \"actualCount\": 1,\n",
      "        \"desiredVirtualCount\": 128,\n",
      "        \"actualVirtualCount\": 128,\n",
      "        \"key\": \"_id\",\n",
      "        \"strategy\": \"hash\",\n",
      "        \"function\": \"murmur3\"\n",
      "      },\n",
      "      \"vectorIndexConfig\": {\n",
      "        \"skip\": false,\n",
      "        \"cleanupIntervalSeconds\": 300,\n",
      "        \"maxConnections\": 64,\n",
      "        \"efConstruction\": 128,\n",
      "        \"ef\": -1,\n",
      "        \"vectorCacheMaxObjects\": 2000000,\n",
      "        \"flatSearchCutoff\": 40000\n",
      "      },\n",
      "      \"vectorIndexType\": \"hnsw\",\n",
      "      \"vectorizer\": \"text2vec-transformers\"\n",
      "    }\n",
      "  ]\n",
      "}\n"
     ]
    }
   ],
   "source": [
    "def prettify(json_dict): \n",
    "    print(json.dumps(json_dict, indent=2))\n",
    "\n",
    "prettify(client.schema.get())"
   ]
  },
  {
   "cell_type": "code",
   "execution_count": 115,
   "metadata": {},
   "outputs": [
    {
     "data": {
      "text/plain": [
       "'28c5e357-2d19-55d0-a685-1756ad0a7e47'"
      ]
     },
     "execution_count": 115,
     "metadata": {},
     "output_type": "execute_result"
    }
   ],
   "source": [
    "# test that the helper uuid generating function works \n",
    "helper.generate_uuid('product', productData[350]['title']+productData[350]['asin'])"
   ]
  },
  {
   "cell_type": "code",
   "execution_count": null,
   "metadata": {},
   "outputs": [],
   "source": []
  },
  {
   "cell_type": "code",
   "execution_count": 116,
   "metadata": {},
   "outputs": [],
   "source": [
    "from weaviate.batch import Batch # for the typing purposes\n",
    "\n",
    "# so far i only got to successfully import 'asin', 'title'\n",
    "\n",
    "def add_product(batch: Batch, product_data: dict) -> str:\n",
    "    product_object = {\n",
    "        'asin': product_data['asin'],\n",
    "        'title': product_data['title'],\n",
    "        'main_cat': product_data['main_cat'],\n",
    "        'description': product_data['description'],             \n",
    "        #'feature': product_data['feature'] if 'feature' in product_data else '',\n",
    "        'price': product_data['price']\n",
    "    }\n",
    "    # generate an UUID for the Author\n",
    "    product_id = helper.generate_uuid('product', product_data['title']+product_data['asin'])\n",
    "   \n",
    "    # add article to the batch\n",
    "    batch.add_data_object(  \n",
    "        data_object=product_object,\n",
    "        class_name='Product',\n",
    "        uuid=product_id\n",
    "    ) \n",
    "    return product_id\n",
    "\n",
    "\n",
    "\n"
   ]
  },
  {
   "cell_type": "markdown",
   "metadata": {},
   "source": []
  },
  {
   "cell_type": "code",
   "execution_count": 118,
   "metadata": {},
   "outputs": [
    {
     "name": "stderr",
     "output_type": "stream",
     "text": [
      "100%|██████████| 500/500 [02:09<00:00,  3.86it/s]\n"
     ]
    }
   ],
   "source": [
    "from tqdm import trange\n",
    "\n",
    "# just to test a small number to see if it works \n",
    "\n",
    "for i in trange(500, 1000):\n",
    "    product_id = add_product(client.batch, productData[i])    \n",
    "    if i % 20 == 0:\n",
    "        # submit the objects from the batch to weaviate\n",
    "        client.batch.create_objects()\n",
    "status_objects = client.batch.create_objects()\n",
    "client.batch.flush()"
   ]
  },
  {
   "cell_type": "code",
   "execution_count": null,
   "metadata": {},
   "outputs": [
    {
     "name": "stdout",
     "output_type": "stream",
     "text": [
      "Number of reviews returned: 100\n"
     ]
    }
   ],
   "source": [
    "result = client.query.get(class_name='Product', properties=\"title\")\\\n",
    "    .do()\n",
    "print(f\"Number of reviews returned: {len(result['data']['Get']['Product'])}\")\n",
    "#result"
   ]
  }
 ],
 "metadata": {
  "interpreter": {
   "hash": "2bc68644eae3242e56bd75e747837eb550b8c90cd0d79155548d146508e9d1e3"
  },
  "kernelspec": {
   "display_name": "Python 3.8.13",
   "language": "python",
   "name": "python3"
  },
  "language_info": {
   "codemirror_mode": {
    "name": "ipython",
    "version": 3
   },
   "file_extension": ".py",
   "mimetype": "text/x-python",
   "name": "python",
   "nbconvert_exporter": "python",
   "pygments_lexer": "ipython3",
   "version": "3.8.13"
  },
  "orig_nbformat": 4
 },
 "nbformat": 4,
 "nbformat_minor": 2
}
