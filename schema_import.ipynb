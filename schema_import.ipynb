{
 "cells": [
  {
   "cell_type": "code",
   "execution_count": 4,
   "metadata": {},
   "outputs": [],
   "source": [
    "#import pandas as pd\n",
    "import json\n",
    "import numpy as np\n",
    "from tqdm.notebook import tqdm\n",
    "import uuid\n",
    "import helper\n",
    "import weaviate \n",
    "from weaviate.batch import Batch \n",
    "\n",
    "# initiate the Weaviate client\n",
    "client = weaviate.Client(\"http://localhost:8080\")\n",
    "client.timeout_config = (3, 200)\n"
   ]
  },
  {
   "cell_type": "markdown",
   "metadata": {},
   "source": [
    "# load all review data \n",
    "reviewData = []\n",
    "with open('data/sample_Home_and_Kitchen_5.json', 'r') as f:\n",
    "    for l in tqdm(f):\n",
    "        reviewData.append(json.loads(l))"
   ]
  },
  {
   "cell_type": "code",
   "execution_count": 6,
   "metadata": {},
   "outputs": [
    {
     "data": {
      "application/vnd.jupyter.widget-view+json": {
       "model_id": "a0caaaadfa9d415a9154cc1b5c1eb655",
       "version_major": 2,
       "version_minor": 0
      },
      "text/plain": [
       "0it [00:00, ?it/s]"
      ]
     },
     "metadata": {},
     "output_type": "display_data"
    },
    {
     "name": "stdout",
     "output_type": "stream",
     "text": [
      "{'category': ['Home & Kitchen', 'Vacuums & Floor Care'], 'description': 'Eureka Replacement Vacuum Belt', 'title': 'Eureka 54312-12 Vacuum Cleaner Belt', 'brand': 'Eureka', 'feature': ['Limit 1 per order', 'Returns will not be honored on this closeout item'], 'rank': '>#1,098,930 in Home & Kitchen (See Top 100 in Home & Kitchen)>#17,327 in Home & Kitchen > Vacuums & Floor Care', 'also_view': ['B004B54FM4', 'B014N37IBI', 'B00VH79FH4', 'B008MKNG6U', 'B001AO1VBW', 'B00TM8XQK2', 'B001EZIEOO', 'B013KYDLJY', 'B013JKGOH0', 'B0195UJPGU', 'B001ANZQSM', 'B00BY3VYFC', 'B00007E7OH'], 'main_cat': 'Amazon Home', 'price': 4.36, 'asin': 'B00002N62Y'}\n"
     ]
    }
   ],
   "source": [
    "# load all metadata\n",
    "count = 0\n",
    "data = []\n",
    "with open('data/sample_meta_Home_and_Kitchen.json', 'r') as f:\n",
    "    for l in tqdm(f):\n",
    "        data.append(json.loads(l))\n",
    "        count = count + 1\n",
    "        if count >= 3000:\n",
    "          break\n",
    "\n",
    "\n",
    "productData = []\n",
    "\n",
    "for i in range(0, 3000):\n",
    "    hasprice=\"price\" in data[i]\n",
    "    hastitle=\"title\" in data[i]\n",
    "    hasdescription=\"description\" in data[i]\n",
    "    hasmaincat='main_cat' in data[i]\n",
    "   # print(i,  (hasprice and hastitle and hasdescription))\n",
    "    if (hasprice and hastitle and hasdescription and hasmaincat)==True:\n",
    "        if len(data[i]['title'])<200:\n",
    "            productData.append(data[i])\n",
    "    else:\n",
    "        continue\n",
    "\n",
    "\n",
    "for i in range(0, len(productData)): \n",
    "   productData[i]['description']=\" \".join(productData[i]['description'])\n",
    "   cleaned_text = productData[i]['description'].replace(\"\\\\\", \"\")\n",
    "   productData[i]['description']=cleaned_text\n",
    "   productData[i]['price']=productData[i]['price'].replace(\"$\",\"\").replace(\",\",\"\")\n",
    "   productData[i]['price']=float(productData[i]['price'])\n",
    "   if i == 0:\n",
    "       print(productData[i]) \n",
    "\n"
   ]
  },
  {
   "cell_type": "code",
   "execution_count": 10,
   "metadata": {},
   "outputs": [
    {
     "name": "stdout",
     "output_type": "stream",
     "text": [
      "<weaviate.schema.crud_schema.Schema object at 0x7fd00c042f10>\n"
     ]
    }
   ],
   "source": [
    "## here needs a step to clean and process / filter out data \n",
    "## len(productData['title']) <100 \n",
    "print(client.schema)"
   ]
  },
  {
   "cell_type": "code",
   "execution_count": 8,
   "metadata": {},
   "outputs": [],
   "source": [
    "client.schema.delete_all() # delete all classes"
   ]
  },
  {
   "cell_type": "code",
   "execution_count": 9,
   "metadata": {},
   "outputs": [],
   "source": [
    "import weaviate\n",
    "\n",
    "# skipped product \"brand\", it can be it's own class, for simplicity, skip it for now \n",
    "# skipped product \"category\" list of strings (text?) not sure how to type it yet, or if category should be it's own class?\n",
    "# skipped \"similar_item\"\n",
    "schema = {\n",
    "    \"classes\": [\n",
    "        {\n",
    "            # name of the class\n",
    "            \"class\": \"Product\",\n",
    "            # class properties\n",
    "            \"properties\": [\n",
    "                {\n",
    "                    \"name\": \"asin\",\n",
    "                    \"dataType\": [\"string\"]\n",
    "                },\n",
    "                {\n",
    "                    \"name\": \"title\",\n",
    "                    \"dataType\": [\"text\"]\n",
    "                },\n",
    "                {\n",
    "                    \"dataType\": [\"number\"],\n",
    "                    \"description\": \"The price product in dollars\",\n",
    "                    \"name\": \"price\"\n",
    "                },\n",
    "                {\n",
    "                    \"dataType\": [\"text\"],\n",
    "                    \"name\": \"productDescription\",\n",
    "                    \"description\": \"description of product\"\n",
    "\n",
    "                },\n",
    "                {\n",
    "                    \"dataType\": [\"string\"],\n",
    "                    \"name\": \"mainCat\",\n",
    "                    \"description\": \"main category of the product in amazon \"\n",
    "                }\n",
    "            ]\n",
    "        }\n",
    "    ]\n",
    "}\n",
    "client.schema.create(schema)"
   ]
  },
  {
   "cell_type": "code",
   "execution_count": 11,
   "metadata": {},
   "outputs": [
    {
     "name": "stdout",
     "output_type": "stream",
     "text": [
      "{\n",
      "  \"classes\": [\n",
      "    {\n",
      "      \"class\": \"Product\",\n",
      "      \"invertedIndexConfig\": {\n",
      "        \"bm25\": {\n",
      "          \"b\": 0.75,\n",
      "          \"k1\": 1.2\n",
      "        },\n",
      "        \"cleanupIntervalSeconds\": 60,\n",
      "        \"stopwords\": {\n",
      "          \"additions\": null,\n",
      "          \"preset\": \"en\",\n",
      "          \"removals\": null\n",
      "        }\n",
      "      },\n",
      "      \"moduleConfig\": {\n",
      "        \"text2vec-contextionary\": {\n",
      "          \"vectorizeClassName\": true\n",
      "        }\n",
      "      },\n",
      "      \"properties\": [\n",
      "        {\n",
      "          \"dataType\": [\n",
      "            \"string\"\n",
      "          ],\n",
      "          \"moduleConfig\": {\n",
      "            \"text2vec-contextionary\": {\n",
      "              \"skip\": false,\n",
      "              \"vectorizePropertyName\": false\n",
      "            }\n",
      "          },\n",
      "          \"name\": \"asin\",\n",
      "          \"tokenization\": \"word\"\n",
      "        },\n",
      "        {\n",
      "          \"dataType\": [\n",
      "            \"text\"\n",
      "          ],\n",
      "          \"moduleConfig\": {\n",
      "            \"text2vec-contextionary\": {\n",
      "              \"skip\": false,\n",
      "              \"vectorizePropertyName\": false\n",
      "            }\n",
      "          },\n",
      "          \"name\": \"title\",\n",
      "          \"tokenization\": \"word\"\n",
      "        },\n",
      "        {\n",
      "          \"dataType\": [\n",
      "            \"number\"\n",
      "          ],\n",
      "          \"description\": \"The price product in dollars\",\n",
      "          \"moduleConfig\": {\n",
      "            \"text2vec-contextionary\": {\n",
      "              \"skip\": false,\n",
      "              \"vectorizePropertyName\": false\n",
      "            }\n",
      "          },\n",
      "          \"name\": \"price\"\n",
      "        },\n",
      "        {\n",
      "          \"dataType\": [\n",
      "            \"text\"\n",
      "          ],\n",
      "          \"description\": \"description of product\",\n",
      "          \"moduleConfig\": {\n",
      "            \"text2vec-contextionary\": {\n",
      "              \"skip\": false,\n",
      "              \"vectorizePropertyName\": false\n",
      "            }\n",
      "          },\n",
      "          \"name\": \"productDescription\",\n",
      "          \"tokenization\": \"word\"\n",
      "        },\n",
      "        {\n",
      "          \"dataType\": [\n",
      "            \"string\"\n",
      "          ],\n",
      "          \"description\": \"main category of the product in amazon \",\n",
      "          \"moduleConfig\": {\n",
      "            \"text2vec-contextionary\": {\n",
      "              \"skip\": false,\n",
      "              \"vectorizePropertyName\": false\n",
      "            }\n",
      "          },\n",
      "          \"name\": \"mainCat\",\n",
      "          \"tokenization\": \"word\"\n",
      "        }\n",
      "      ],\n",
      "      \"shardingConfig\": {\n",
      "        \"virtualPerPhysical\": 128,\n",
      "        \"desiredCount\": 1,\n",
      "        \"actualCount\": 1,\n",
      "        \"desiredVirtualCount\": 128,\n",
      "        \"actualVirtualCount\": 128,\n",
      "        \"key\": \"_id\",\n",
      "        \"strategy\": \"hash\",\n",
      "        \"function\": \"murmur3\"\n",
      "      },\n",
      "      \"vectorIndexConfig\": {\n",
      "        \"skip\": false,\n",
      "        \"cleanupIntervalSeconds\": 300,\n",
      "        \"maxConnections\": 64,\n",
      "        \"efConstruction\": 128,\n",
      "        \"ef\": -1,\n",
      "        \"dynamicEfMin\": 100,\n",
      "        \"dynamicEfMax\": 500,\n",
      "        \"dynamicEfFactor\": 8,\n",
      "        \"vectorCacheMaxObjects\": 2000000,\n",
      "        \"flatSearchCutoff\": 40000,\n",
      "        \"distance\": \"cosine\"\n",
      "      },\n",
      "      \"vectorIndexType\": \"hnsw\",\n",
      "      \"vectorizer\": \"text2vec-contextionary\"\n",
      "    }\n",
      "  ]\n",
      "}\n"
     ]
    }
   ],
   "source": [
    "def prettify(json_dict): \n",
    "    print(json.dumps(json_dict, indent=2))\n",
    "\n",
    "prettify(client.schema.get())"
   ]
  },
  {
   "cell_type": "code",
   "execution_count": 12,
   "metadata": {},
   "outputs": [
    {
     "data": {
      "text/plain": [
       "'28c5e357-2d19-55d0-a685-1756ad0a7e47'"
      ]
     },
     "execution_count": 12,
     "metadata": {},
     "output_type": "execute_result"
    }
   ],
   "source": [
    "# test that the helper uuid generating function works \n",
    "helper.generate_uuid('product', productData[350]['title']+productData[350]['asin'])"
   ]
  },
  {
   "cell_type": "code",
   "execution_count": null,
   "metadata": {},
   "outputs": [],
   "source": []
  },
  {
   "cell_type": "code",
   "execution_count": 13,
   "metadata": {},
   "outputs": [],
   "source": [
    "from weaviate.batch import Batch # for the typing purposes\n",
    "\n",
    "# so far i only got to successfully import 'asin', 'title'\n",
    "\n",
    "def add_product(batch: Batch, product_data: dict) -> str:\n",
    "    product_object = {\n",
    "        'asin': product_data['asin'],\n",
    "        'title': product_data['title'],\n",
    "        'main_cat': product_data['main_cat'],\n",
    "        'description': product_data['description'],             \n",
    "        #'feature': product_data['feature'] if 'feature' in product_data else '',\n",
    "        'price': product_data['price']\n",
    "    }\n",
    "    # generate an UUID for the Author\n",
    "    product_id = helper.generate_uuid('product', product_data['title']+product_data['asin'])\n",
    "   \n",
    "    # add article to the batch\n",
    "    batch.add_data_object(  \n",
    "        data_object=product_object,\n",
    "        class_name='Product',\n",
    "        uuid=product_id\n",
    "    ) \n",
    "    return product_id\n",
    "\n",
    "\n",
    "\n"
   ]
  },
  {
   "cell_type": "markdown",
   "metadata": {},
   "source": []
  },
  {
   "cell_type": "code",
   "execution_count": 14,
   "metadata": {},
   "outputs": [
    {
     "name": "stderr",
     "output_type": "stream",
     "text": [
      "100%|██████████| 500/500 [00:01<00:00, 409.42it/s]\n"
     ]
    }
   ],
   "source": [
    "from tqdm import trange\n",
    "\n",
    "# just to test a small number to see if it works \n",
    "\n",
    "for i in trange(500, 1000):\n",
    "    product_id = add_product(client.batch, productData[i])    \n",
    "    if i % 20 == 0:\n",
    "        # submit the objects from the batch to weaviate\n",
    "        client.batch.create_objects()\n",
    "status_objects = client.batch.create_objects()\n",
    "client.batch.flush()"
   ]
  },
  {
   "cell_type": "code",
   "execution_count": 21,
   "metadata": {},
   "outputs": [
    {
     "name": "stdout",
     "output_type": "stream",
     "text": [
      "Number of reviews returned: 100\n"
     ]
    },
    {
     "data": {
      "text/plain": [
       "{'data': {'Get': {'Product': [{'title': '20 Fleece Vacuum Cleaner Bags, Filter Bags for Miele S 2121'},\n",
       "    {'title': 'Genuine Sebo Vacuum Cleaner 36.5Mm Large Dusting Brush 1094Er'},\n",
       "    {'title': '1 X Genuine DYSON DC25 DC26 DC29 DC30 DC32 Vacuum Cleaner Spring Wand Handle Catch'},\n",
       "    {'title': 'Karcher Karcher Wet & Dry Vacuum Cleaners Cartridge Filter KAR/64145520'},\n",
       "    {'title': 'Complete Vacuum Cleaner Hose Assembly Designed to Fit Dyson DC17 Animal, DC17 Asthma & Allergy, DC17 Total Clean'},\n",
       "    {'title': 'Miele S8590 Alize Canister Vacuum Cleaner (Old Model)'},\n",
       "    {'title': 'DerBlue Compatible/Replacement Parts 10 x Aero Vac Filters Kit for iRobot Roomba 500 600 Series 536 550 614 620 630 650 655 660 665 671 680 690 Vacuum Cleaner Accessory'},\n",
       "    {'title': 'Genuine Kirby Vacuum Cleaner Brush Roll #313292S Fits Floor Care Kit, Polish Hardwood, Tile'},\n",
       "    {'title': 'Oreck Model XL3600, 2000 Series Vacuum Cleaner Generic Threaded Motor Fan Housing'},\n",
       "    {'title': 'Vacuum Cleaner Hose Assembly Purple Designed to Fit All Dyson DC07 Models'},\n",
       "    {'title': 'Neato XV-11 Vacuum Cleaner Brush Bearings - Replacement For The Neato XV11, XV12, XV14, XV15 Brush Bearings - Pack Of 2'},\n",
       "    {'title': 'MaximalPower Mini/Micro Vacuum Cleaner Attachment Tool Kit 8 Pcs Set'},\n",
       "    {'title': 'Maytag M1200 Upright Vacuum Cleaner'},\n",
       "    {'title': 'Rainbow D2, D3, D4, D4C Separator, DVC Replacement Brand, designed to fit Rainbow D3, D4, D4C Canister Vacuum Cleaners'},\n",
       "    {'title': 'HQRP HEPA Filter 4-Pack for Eureka Boss SmartVac 4870K-1 4870K-2 4870MZX 4874 4870MZ-1 4870MZX-1 4870MZ-2 4870MZX-2 4870PZ 4870PZ-1 4870AT 4870BT 4870 Vac Vacuum Cleaner Upright Coaster'},\n",
       "    {'title': 'Kirby 12 F Style Allergen Filtration Vacuum Cleaner Bags Designed To Fit Style F Ultimate G Diamond Edition, Ultimate G series, Gsix Vacuums; Compare To Part # 204808'},\n",
       "    {'title': '3 Hoover Type Q Part #302982002 Platinum Upright Vacuum Cleaner HEPA Bag UH30010'},\n",
       "    {'title': 'Generic Rainbow Vacuum Cleaner Wand'},\n",
       "    {'title': '10 GE, Premier, Whirlwind, Everclean Swivel Top Canister Tank style Vacuum Cleaner Sweeper Bags 1400 Vac, 405329, 1400ES, 1400, STR21339, 21339, C series C-1 thru C-18, 815, V11C10, V11C13, V14C9'},\n",
       "    {'title': 'Neato XV-21 Vacuum Cleaner Filter Neato Robotic Pet & Allergy Filter - Replacement For Neato 945-0048 Filter, 12 Filters'},\n",
       "    {'title': 'Eureka SAN-GENBELT Vacuum Cleaner Rubber Brush Roll Belt, Black (Case of 12)'},\n",
       "    {'title': 'Crucial Vacuum Kirby Style F Paper Vacuum Cleaner Bags (18 Pack)'},\n",
       "    {'title': '1 X Makhry New Portable Cute Mini Mushroom Corner Desk Table Dust Vacuum Cleaner Sweeper (Random)'},\n",
       "    {'title': '4-Pack Replacement Filter for Neato XV-21 Pet & Allergy Automatic Vacuum Cleaner'},\n",
       "    {'title': 'Dyson 906565-32 DC19T2, DC23, DC23T2, DC29, DC32 Vacuum Cleaner Turbo Brush Turbine Head'},\n",
       "    {'title': 'iRobot Roomba 700 Series Vacuum Cleaner Accessory Kit Replacement -Kit Includes: 5 Side Brushes & 10 Filters'},\n",
       "    {'title': 'Replacement iRobot Roomba 551 Battery - For iRobot 80501 Robotic Vacuum Cleaner Battery (2000mAh, 14.4V, NICD)'},\n",
       "    {'title': 'Think Crucial 24-Inch Flexible Crevice Tool Designed To Fit Vacuum Cleaners w/ 32 mm openings'},\n",
       "    {'title': 'Generic Grey 35 ft. Vacuum Cleaner Power Cable Cord FA-3035 CD7038'},\n",
       "    {'title': 'Kirby Style F # 204808 Allergen Reduction Filter HEPA Filtration Vacuum Cleaner Bags for Kirby'},\n",
       "    {'title': 'Vacuum Cleaner Bags for Oreck Buster B Bb Housekeeper Compact Canister'},\n",
       "    {'title': 'Electrolux Exr-3075 62005 Vacuum Cleaner Cord Winder and Cord Le- 2100 Epic 6500'},\n",
       "    {'title': 'Replacement iRobot Roomba 551 Battery - High Capacity Battery for iRobot 80501 Robotic Vacuum Cleaner (3500mAh, 14.4V, NI-MH)'},\n",
       "    {'title': 'HQRP 2-Pack 86889 Filters for Kenmore Canister 25915 / 27514 / 27515 / 27614 / 27615 / 27814 / 27815 / 27914 / 27915 Vacuum Cleaners plus HQRP Coaster'},\n",
       "    {'title': 'ProTeam 100431 QuarterVac, Alpine, ProVac, TailVac, Replacement Backpack Vacuum Cleaner Bags, part 450227, 10 Pack.'},\n",
       "    {'title': 'Soniclean Galaxy Upright Vacuum Cleaner'},\n",
       "    {'title': 'Hoover UH70200, YH70210 Vacuum Cleaner Hose 303239003'},\n",
       "    {'title': 'Cirrus, ProGrade 12 Pack Upright Vacuum Cleaner Bags, Fits ALL Cirrus & ProGrade Models, Part C-14005'},\n",
       "    {'title': 'Generic Electrolux Canister Vacuum Cleaner Power Nozzle Circuit Breaker'},\n",
       "    {'title': 'HQRP 2-Pack Hepa Filter for Philips FC 8031 Replacement, Canister Vacuum Cleaners plus Coaster'},\n",
       "    {'title': 'New Set of 3 Stainless Steel Attachment Wand Wands for E/E2 Series Rainbow Vacuum Cleaner'},\n",
       "    {'title': 'MZY LLC Hepa Filters Kit Replacement for iRobot Roomba 800&900 Series Vacuum Cleaner Parts Side Brush Vacuum Filter for iRobot Roomba 870 870 880 980 Vacuum Accessories Set'},\n",
       "    {'title': 'HQRP Active HEPA Filter 4-Pack for Miele S4002 S4210 S4212 S4282 S4580 S4582 S4780 Antares Capella Carina Sirius Manhattan Orion Polaris Luna Deluxe Canister Vac Vacuum Cleaner + Coaster'},\n",
       "    {'title': 'Eureka Mighty Mite Canister Vacuum Cleaner Wand 13719-2'},\n",
       "    {'title': '4YourHome Pleated Post Motor Filter Bissell Style 8 & Style 14 3910 Series Vacuum Cleaner'},\n",
       "    {'title': 'Kirby Vacuum Cleaner Disposable Cloth Paper Bags White Hepa Bags 2 Pack Universal Style Fits ALL Kirby Models'},\n",
       "    {'title': 'Kirby Sentria Vacuum Cleaner 32 foot Electric Power Cord (Cable), Part #192006, 120 volt, 2 prong, SE G10 G9, Genuine'},\n",
       "    {'title': 'Home Revolution Replacement HEPA Filter, Fits Eureka HF-10 Upright Vacuum Cleaner, Boss Capture and Pet Love Models and Part 63347, 63347-4, 77973.'},\n",
       "    {'title': 'Generic TriStar Canister and Electrolux Upright Vacuum Cleaner Geared Power Nozzle Brushroll'},\n",
       "    {'title': 'Windsor Versamatic Vacuum Cleaner Hose'},\n",
       "    {'title': 'Neato XV-21 Vacuum Cleaner Battery 945-0005 (7.2v 3500 mAh 25.2 Whr) Battery - Replacement For Neato Robotics 945-0005'},\n",
       "    {'title': 'HQRP Filter fits Panasonic MC-UL915, MC-UL815 Upright Vacuum Cleaners + HQRP Coaster'},\n",
       "    {'title': 'HQRP Washable Filter 4-Pack for Dirt Devil UD40255 Express, UD40045 UD40050 Easy Clean, M084501 M084501V M084510 Vibe Lite Vac Vacuum Cleaner Coaster'},\n",
       "    {'title': 'Neato XV-21 Vacuum Cleaner Brush Bearings - Replacement For The Neato Pet & Allergy Brush Bearings - Pack Of 2'},\n",
       "    {'title': \"Genuine Oreck Upright Vacuum Cleaner 30' Feet Power Cord Cable OR-3030-1 58-5805-91\"},\n",
       "    {'title': 'Bissell Style 8 Vacuum Cleaner Belt (2 Belts)'},\n",
       "    {'title': 'HQRP Hepa H13 Filter fits Electrolux EL4325A UltraActiveTM Turbo, EL7062A Oxygen Vacuum Cleaner'},\n",
       "    {'title': 'Nutone Central Vacuum Cleaner Secondary Filter 06-2302-02'},\n",
       "    {'title': 'Dyson Dc33 Dc14 Dc07 Dc04 Dc01 Vacuum Cleaner Drive Belt. Part Number 90052701 900527-01- Non Clutch'},\n",
       "    {'title': 'HQRP HEPA Dust Cup Filter 2-Pack for Eureka AirSpeed AS1000A AS1001A AS1001AX AS1004A AS1000 AS1040 Vac Vacuum Cleaner Coaster'},\n",
       "    {'title': 'Dust Care Model DCC-358 Vacuum Cleaner Bags'},\n",
       "    {'title': 'Tri Star Canister Vacuum Cleaner Motor MG1, MG2 CO-48571'},\n",
       "    {'title': 'Dirt Devil Vacuum Cleaner Vibe 3-in-1 Corded Bagless Stick and Handheld Vacuum Cleaner SD20020'},\n",
       "    {'title': 'Infinuvo Authentic Maintenance Kit for Hovo 650 and Haier Robotic Vacuum Cleaners, 1 HEPA filter, 1 Pre-filter and 2 Side Brushes'},\n",
       "    {'title': 'F&G Disposable Paper Vacuum Cleaner Bags 4/PACK'},\n",
       "    {'title': 'CCP Automatic Mop Robot Vacuum Cleaner [Mofa Morpher] Poodle Beige Zz-mr2-be Ship By Ems Jp Post'},\n",
       "    {'title': 'Bagged Vacuum Cleaner Scent Tablets Air Freshner Odor Deodorizers 10pk'},\n",
       "    {'title': '3 HEPA Panasonic U U-3 U-6 Riccar Simplicity Bernina Type A Fuller Brush Style U Belvedere Allergy Upright Vacuum Cleaner Bags MC-V145M MC-115P MC-V5000 MC-V5099 MC-V7300 MC-V7399 MC-V6200 MC-V6299'},\n",
       "    {'title': 'Vac-Yum Vacuum Cleaner Scent Blue Skies'},\n",
       "    {'title': 'Miele Vacuum Cleaner Plastic Dust Bag Holder'},\n",
       "    {'title': 'Hoover Vacuum Cleaner WindTunnel 2 Rewind Pet Corded Bagless Upright Vacuum UH70831PC'},\n",
       "    {'title': 'Kenmore 5041 / 5045 Style H Canister Vacuum Cleaner Bags for Old Kenmore Canister Vacuums, 3pk'},\n",
       "    {'title': 'Synergy iRobot Roomba 572 Vacuum Cleaner Battery Ultra High Capacity Ni-MH 3500mAh - Replacement For iRobot 80501 Battery'},\n",
       "    {'title': 'HQRP Filter fits Panasonic MC-CG902, MC-UG327, MC-UG323 Canister / Upright Vacuum Cleaners + HQRP Coaster'},\n",
       "    {'title': 'Hoover Vacuum Cleaner Belt Style 38528033 (2 Belts)'},\n",
       "    {'title': 'ECOMAID for iRobot Roomba Spinning Side Brushes 650 770 780 790 721 620 595 560 630 10Packs,Replacement Robotic Vacuum Cleaner Parts (500&600&700 seires)'},\n",
       "    {'title': '5 GE, Premier, Whirlwind, Everclean Swivel Top Canister Tank style Vacuum Cleaner Sweeper Bags 1400 Vac, 405329, 1400ES, 1400, STR21339, 21339, C series C-1 thru C-18, 815, V11C10, V11C13, V14C9'},\n",
       "    {'title': 'Neato XV-21 Battery - Replacement for Neato Robotic Vacuum Cleaner Battery (3500mAh, 7.2V, NI-MH)'},\n",
       "    {'title': 'HQRP HEPA Dust Cup Filter 2-Pack for Eureka WhirlWind 3272AV, Z4237AZ Z3276AZ Z3277AZ ZC3270, ZAS10 Airspeed / Z32 Powerglide Vac Vacuum Cleaner Coaster'},\n",
       "    {'title': 'Eureka AS3030A Pet Upright Vacuum Cleaner, Orange'},\n",
       "    {'title': 'Toshiba Vacuum Cleaner Paper Bag Vacuum Cleaner VC-PC6A-L Blue (Japan Import)'},\n",
       "    {'title': 'Kirby Vacuum Cleaner Cloth Outside Outer Dirt Bag G6'},\n",
       "    {'title': 'Vacuum Cleaner Bags ... Designed to fit Eureka Victory & EnviroVac ... Style AA ... 3 Bags'},\n",
       "    {'title': 'Kenmore 50688 & 50690 Style U Microlined Upright Vacuum Cleaner Bags by EnviroCare (9/Pack) Part # 159-9. (9 Bags)'},\n",
       "    {'title': 'ILIFE ILIFEA804 A8 Robotic Vacuum Cleaner with Full-View Camera Navigation, One Size, Brilliant Black'},\n",
       "    {'title': 'Filtrete Type F8 Vacuum Cleaner Filter'},\n",
       "    {'title': 'Kirby Vacuum Cleaner Electric Power Cord Cable G6'},\n",
       "    {'title': 'Qualtex Purple Extra Stretch Vacuum Cleaner Hose Compatible with Dyson DC07 Models'},\n",
       "    {'title': 'Qualtex Post Motor Hepa Filter Compatible With Dyson Dc25 Dc25i Vacuum Cleaners'},\n",
       "    {'title': '1-1/4\" 32mm Replacement Round Horse Hair Dusting Brush to Fit Most Vacuum Cleaners'},\n",
       "    {'title': 'Kirby Vacuum Cleaner Tile and Grout Brush Roll Brushroll Roller Bar Brush Bar Cleaner Kit'},\n",
       "    {'title': 'Starfrit 060777-006-GREE Mushroom Shaped Mini Table Vacuum Cleaner, Green - Cordless'},\n",
       "    {'title': 'HQRP 2-Pack Active HEPA Filter compatible with Miele Callisto/Capricorn / Earth canister vacuum cleaners plus Coaster'},\n",
       "    {'title': 'Rebuilt E series GV Hepa E2 Rainbow Canister Pet Vacuum Cleaner new GV tools & accessories 5 year Warranty'},\n",
       "    {'title': 'Kirby Genuine Vacuum Cleaner Brush Roll #152505 Fits Sentria, SE2, Ultimate G, ULTG, Diamond Edition, DE, G Six G6, G5'},\n",
       "    {'title': 'Kirby Vacuum Cleaner Pedal On/off Switch G3 G4 G5 G6 ULT G Diam Sentra Sentria 2'},\n",
       "    {'title': 'ANBOO for iRobot Roomba 610 620 650 770 780 790 Brush  Vacuum Cleaner Replacment Black 8pcs'},\n",
       "    {'title': 'Genuine DYSON Vacuum Cleaner Washable HEPA Post Motor FILTER 91618805 916188-05'},\n",
       "    {'title': 'Dyson DC40 Origin Upright Vacuum Cleaner, Red'},\n",
       "    {'title': 'Internal Hose Designed to Fit Dyson DC04 DC07 & DC14 Vacuum Cleaners'}]}}}"
      ]
     },
     "execution_count": 21,
     "metadata": {},
     "output_type": "execute_result"
    }
   ],
   "source": [
    "result = client.query.get(class_name='Product', properties=\"title\").do()\n",
    "print(f\"Number of reviews returned: {len(result['data']['Get']['Product'])}\")\n",
    "result\n"
   ]
  }
 ],
 "metadata": {
  "kernelspec": {
   "display_name": "Python 3.9.7 ('wea-search')",
   "language": "python",
   "name": "python3"
  },
  "language_info": {
   "codemirror_mode": {
    "name": "ipython",
    "version": 3
   },
   "file_extension": ".py",
   "mimetype": "text/x-python",
   "name": "python",
   "nbconvert_exporter": "python",
   "pygments_lexer": "ipython3",
   "version": "3.9.13"
  },
  "orig_nbformat": 4,
  "vscode": {
   "interpreter": {
    "hash": "592c1ac18274804de43e77f894b396153c81a37efbd6da047e706e01a8ab3879"
   }
  }
 },
 "nbformat": 4,
 "nbformat_minor": 2
}
