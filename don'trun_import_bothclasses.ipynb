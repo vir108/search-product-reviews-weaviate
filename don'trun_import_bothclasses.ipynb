{
 "cells": [
  {
   "cell_type": "code",
   "execution_count": 1,
   "metadata": {},
   "outputs": [],
   "source": [
    "#import pandas as pd\n",
    "import json\n",
    "import numpy as np\n",
    "from tqdm import tqdm_notebook as tqdm\n",
    "import uuid\n",
    "import weaviate \n",
    "from weaviate.batch import Batch \n",
    "import helper\n",
    "import weaviate\n",
    "\n"
   ]
  },
  {
   "cell_type": "code",
   "execution_count": 2,
   "metadata": {},
   "outputs": [],
   "source": [
    "from weaviate.wcs import WCS\n",
    "my_credentials = weaviate.auth.AuthClientPassword(username='yilin2718@gmail.com', password='KC3XUckyWW2TiBW')\n",
    "my_wcs = WCS(my_credentials)"
   ]
  },
  {
   "cell_type": "markdown",
   "metadata": {},
   "source": []
  },
  {
   "cell_type": "code",
   "execution_count": 3,
   "metadata": {},
   "outputs": [],
   "source": [
    "cluster_name = 'product-round2'\n",
    "weaviate_url = my_wcs.create(cluster_name=cluster_name)\n"
   ]
  },
  {
   "cell_type": "code",
   "execution_count": 4,
   "metadata": {},
   "outputs": [
    {
     "data": {
      "text/plain": [
       "'https://product-round2.semi.network'"
      ]
     },
     "execution_count": 4,
     "metadata": {},
     "output_type": "execute_result"
    }
   ],
   "source": [
    "client = weaviate.Client(weaviate_url)\n",
    "weaviate_url\n",
    "\n"
   ]
  },
  {
   "cell_type": "code",
   "execution_count": 6,
   "metadata": {},
   "outputs": [],
   "source": [
    "# helper function\n",
    "def prettify(json_dict): \n",
    "    print(json.dumps(json_dict, indent=2))\n",
    "\n",
    "def generate_uuid(class_name: str, identifier: str,\n",
    "                  test: str = 'teststrong') -> str:\n",
    "    \"\"\" Generate a uuid based on an identifier\n",
    "    :param identifier: characters used to generate the uuid\n",
    "    :type identifier: str, required\n",
    "    :param class_name: classname of the object to create a uuid for\n",
    "    :type class_name: str, required\n",
    "    \"\"\"\n",
    "    test = 'overwritten'\n",
    "    return str(uuid.uuid5(uuid.NAMESPACE_DNS, class_name + identifier))\n"
   ]
  },
  {
   "cell_type": "code",
   "execution_count": 7,
   "metadata": {},
   "outputs": [],
   "source": [
    "client.schema.delete_all() # delete all classes"
   ]
  },
  {
   "cell_type": "code",
   "execution_count": 8,
   "metadata": {},
   "outputs": [],
   "source": [
    "import weaviate\n",
    "\n",
    "# skipped product \"brand\", it can be it's own class, for simplicity, skip it for now \n",
    "# skipped product \"category\" list of strings (text?) not sure how to type it yet, or if category should be it's own class?\n",
    "# skipped \"similar_item\"\n",
    "\n",
    "schema = {\n",
    "    \"classes\": [\n",
    "     {\n",
    "            # name of the class\n",
    "            \"class\": \"Product\",\n",
    "            # class properties\n",
    "            \"properties\": [\n",
    "                {\n",
    "                    \"name\": \"asin\",\n",
    "                    \"dataType\": [\"string\"]\n",
    "                },\n",
    "                {\n",
    "                    \"name\": \"title\",\n",
    "                    \"dataType\": [\"text\"]\n",
    "                },\n",
    "                {\n",
    "                    \"dataType\": [\"number\"],\n",
    "                    \"description\": \"The price product in dollars\",\n",
    "                    \"name\": \"price\"\n",
    "                },\n",
    "                {\n",
    "                    \"dataType\": [\"text\"],\n",
    "                    \"name\": \"productDescription\",\n",
    "                    \"description\": \"description of product\"\n",
    "\n",
    "                },\n",
    "                {\n",
    "                    \"dataType\": [\"string\"],\n",
    "                    \"name\": \"mainCat\",\n",
    "                    \"description\": \"main category of the product in amazon \"\n",
    "                },\n",
    "                {\n",
    "                    \"dataType\": [\n",
    "                        \"Review\"\n",
    "                    ],\n",
    "                    \"description\": \"review of this product\",\n",
    "                    \"name\": \"ofReview\"\n",
    "                }\n",
    "\n",
    "            ]\n",
    "        },{\n",
    "            \"class\": \"Review\",\n",
    "            \"description\": \"A Review class to store the review information\",\n",
    "            \"properties\": [\n",
    "                {\n",
    "                    \"dataType\": [\n",
    "                        \"text\"\n",
    "                    ],\n",
    "                    \"description\": \"review text\",\n",
    "                    \"name\": \"reviewText\",\n",
    "                },\n",
    "                {\n",
    "                    \"dataType\": [\n",
    "                        \"string\"\n",
    "                    ],\n",
    "                    \"description\": \"product id from amazon\",\n",
    "                    \"name\": \"asin\",\n",
    "                },\n",
    "                {\n",
    "                    \"dataType\": [\n",
    "                        \"text\"\n",
    "                    ],\n",
    "                    \"description\": \"reviewer provided summary of review\",\n",
    "                    \"name\": \"summary\",\n",
    "                },\n",
    "                {\n",
    "                    \"dataType\": [\n",
    "                        \"Product\"\n",
    "                    ],\n",
    "                    \"description\": \"The product of the review\",\n",
    "                    \"name\": \"ofProduct\"\n",
    "                }\n",
    "            ]\n",
    "        }\n",
    "    ]\n",
    "}\n",
    "client.schema.create(schema)"
   ]
  },
  {
   "cell_type": "markdown",
   "metadata": {},
   "source": [
    "prettify(client.schema.get())"
   ]
  },
  {
   "cell_type": "code",
   "execution_count": null,
   "metadata": {},
   "outputs": [],
   "source": []
  },
  {
   "cell_type": "code",
   "execution_count": 9,
   "metadata": {},
   "outputs": [
    {
     "name": "stderr",
     "output_type": "stream",
     "text": [
      "/var/folders/4c/x3415rcx4pb9drxwpfyzk32h0000gn/T/ipykernel_37446/3184668384.py:5: TqdmDeprecationWarning: This function will be removed in tqdm==5.0.0\n",
      "Please use `tqdm.notebook.tqdm` instead of `tqdm.tqdm_notebook`\n",
      "  for l in tqdm(f):\n"
     ]
    },
    {
     "data": {
      "application/vnd.jupyter.widget-view+json": {
       "model_id": "bd8a43ea98744ed99a35bfd22d547538",
       "version_major": 2,
       "version_minor": 0
      },
      "text/plain": [
       "0it [00:00, ?it/s]"
      ]
     },
     "metadata": {},
     "output_type": "display_data"
    }
   ],
   "source": [
    "\n",
    "# load all metadata\n",
    "count = 0\n",
    "data = []\n",
    "with open('data/sample_meta_Home_and_Kitchen.json', 'r') as f:\n",
    "    for l in tqdm(f):\n",
    "        data.append(json.loads(l))\n",
    "        count = count + 1\n",
    "        if count >= 100:\n",
    "          break"
   ]
  },
  {
   "cell_type": "code",
   "execution_count": 10,
   "metadata": {},
   "outputs": [],
   "source": [
    "\n",
    "productData = []\n",
    "\n",
    "for i in range(0, 100):\n",
    "    hasprice=\"price\" in data[i]\n",
    "    hastitle=\"title\" in data[i]\n",
    "    hasdescription=\"description\" in data[i]\n",
    "    hasmaincat='main_cat' in data[i]\n",
    "    #print(i,  (hasprice and hastitle and hasdescription))\n",
    "    if (hasprice and hastitle and hasdescription and hasmaincat)==True:\n",
    "        productData.append(data[i])\n",
    "    else:\n",
    "        continue\n",
    "\n",
    "\n",
    "for i in range(0, len(productData)): \n",
    "   productData[i]['description']=\" \".join(productData[i]['description'])\n",
    "   cleaned_text = productData[i]['description'].replace(\"\\\\\", \"\")\n",
    "   productData[i]['description']=cleaned_text\n",
    "   productData[i]['price']=productData[i]['price'].replace(\"$\",\"\").replace(\",\",\"\")\n",
    "   productData[i]['price']=float(productData[i]['price'])\n",
    "\n",
    "\n"
   ]
  },
  {
   "cell_type": "code",
   "execution_count": 41,
   "metadata": {},
   "outputs": [
    {
     "data": {
      "text/plain": [
       "17"
      ]
     },
     "execution_count": 41,
     "metadata": {},
     "output_type": "execute_result"
    }
   ],
   "source": [
    "len(productData)"
   ]
  },
  {
   "cell_type": "code",
   "execution_count": 42,
   "metadata": {},
   "outputs": [
    {
     "data": {
      "text/plain": [
       "{'category': ['Home & Kitchen', 'Vacuums & Floor Care'],\n",
       " 'description': 'Hoses- Electric SES118 Miele S500-600 direct connect. Electric Hose- A required component for the use of all electric powerbrushes.',\n",
       " 'title': 'Miele SES118 Vacuum Cleaner Direct-Connect Electric Hose',\n",
       " 'brand': 'Miele',\n",
       " 'rank': '>#720,580 in Home & Kitchen (See Top 100 in Home & Kitchen)>#13,142 in Home & Kitchen > Vacuums & Floor Care',\n",
       " 'main_cat': 'Amazon Home',\n",
       " 'price': 135.0,\n",
       " 'asin': 'B0002U37E4'}"
      ]
     },
     "execution_count": 42,
     "metadata": {},
     "output_type": "execute_result"
    }
   ],
   "source": [
    "productData[10]"
   ]
  },
  {
   "cell_type": "code",
   "execution_count": 11,
   "metadata": {},
   "outputs": [
    {
     "name": "stdout",
     "output_type": "stream",
     "text": [
      "12\n"
     ]
    }
   ],
   "source": [
    "cand_asin = set([d['asin'] for d in productData])\n",
    "\n",
    "print(len(cand_asin))"
   ]
  },
  {
   "cell_type": "markdown",
   "metadata": {},
   "source": [
    "for i in range(0, len(productData)): \n",
    "    print(productData[i]['asin'])"
   ]
  },
  {
   "cell_type": "code",
   "execution_count": 43,
   "metadata": {},
   "outputs": [
    {
     "data": {
      "text/plain": [
       "5.1"
      ]
     },
     "execution_count": 43,
     "metadata": {},
     "output_type": "execute_result"
    }
   ],
   "source": [
    "productData[2]['price']"
   ]
  },
  {
   "cell_type": "code",
   "execution_count": 44,
   "metadata": {},
   "outputs": [
    {
     "data": {
      "text/plain": [
       "5.1"
      ]
     },
     "execution_count": 44,
     "metadata": {},
     "output_type": "execute_result"
    }
   ],
   "source": [
    "productData[14]['price']"
   ]
  },
  {
   "cell_type": "code",
   "execution_count": 47,
   "metadata": {},
   "outputs": [],
   "source": [
    "reviews = []\n"
   ]
  },
  {
   "cell_type": "code",
   "execution_count": 12,
   "metadata": {},
   "outputs": [],
   "source": [
    "# align products with reviews\n",
    "from collections import defaultdict\n",
    "reviews = defaultdict(list)\n",
    "with open('data/sample_Home_and_Kitchen_5.json', 'r') as f:\n",
    "    for l in f:\n",
    "        r = json.loads(l)\n",
    "        a = r['asin']\n",
    "        if a in cand_asin:\n",
    "            reviews[a].append(r)"
   ]
  },
  {
   "cell_type": "code",
   "execution_count": 13,
   "metadata": {},
   "outputs": [
    {
     "name": "stdout",
     "output_type": "stream",
     "text": [
      "B00002N62Y\n"
     ]
    },
    {
     "data": {
      "text/plain": [
       "'Great price - OEM belts!'"
      ]
     },
     "execution_count": 13,
     "metadata": {},
     "output_type": "execute_result"
    }
   ],
   "source": [
    "i=12\n",
    "productid=productData[i]['asin']\n",
    "print(productid)\n",
    "reviews[productid][1]['summary']"
   ]
  },
  {
   "cell_type": "code",
   "execution_count": 18,
   "metadata": {},
   "outputs": [
    {
     "data": {
      "text/plain": [
       "17"
      ]
     },
     "execution_count": 18,
     "metadata": {},
     "output_type": "execute_result"
    }
   ],
   "source": [
    "len(productData)"
   ]
  },
  {
   "cell_type": "code",
   "execution_count": 14,
   "metadata": {},
   "outputs": [],
   "source": [
    "from weaviate.batch import Batch # for the typing purposes\n",
    "\n",
    "\n",
    "def add_product(batch: Batch, product_data: dict) -> str:\n",
    "    product_object = {\n",
    "        'asin': product_data['asin'],\n",
    "        'title': product_data['title'],\n",
    "        'main_cat': product_data['main_cat'],\n",
    "        'description': product_data['description'],             \n",
    "        #'feature': product_data['feature'] if 'feature' in product_data else '',\n",
    "        'price': product_data['price']\n",
    "    }\n",
    "    # generate an UUID for the Author\n",
    "    product_id = generate_uuid('product', product_data['title']+product_data['asin'])\n",
    "   \n",
    "    # add article to the batch\n",
    "    batch.add_data_object(  \n",
    "        data_object=product_object,\n",
    "        class_name='Product',\n",
    "        uuid=product_id\n",
    "    ) \n",
    "    return product_id\n",
    "\n",
    "\n",
    "def add_review(batch: Batch, review_data: dict) -> str:\n",
    "    review_object = {\n",
    "        'asin': review_data['asin'] ,\n",
    "        'reviewText':review_data['reviewText'],               \n",
    "        'summary': review_data['summary']\n",
    "    }\n",
    "    # generate an UUID for the review\n",
    "    review_id = generate_uuid('review', review_data['reviewText'])\n",
    "\n",
    "    batch.add_data_object(  \n",
    "        data_object=review_object,\n",
    "        class_name='Review',\n",
    "        uuid=review_id\n",
    "    )\n",
    "    return review_id\n",
    "\n",
    "\n",
    "def add_references(batch: Batch, product_id: str, review_id: str)-> None:\n",
    "    # add references to the batch\n",
    "    ## Review -> Product\n",
    "    batch.add_reference(  \n",
    "        from_object_uuid=review_id,\n",
    "        from_object_class_name='Review',\n",
    "        from_property_name='ofProduct',\n",
    "        to_object_uuid=product_id\n",
    "    )\n",
    "    \n",
    "    ## Product -> Review \n",
    "    batch.add_reference(  \n",
    "        from_object_uuid=product_id,\n",
    "        from_object_class_name='Product',\n",
    "        from_property_name='ofReview',\n",
    "        to_object_uuid=review_id\n",
    "    )\n"
   ]
  },
  {
   "cell_type": "markdown",
   "metadata": {},
   "source": [
    "from tqdm import trange\n",
    "\n",
    "for i in trange(0, 17):\n",
    "    product_id = add_product(client.batch, productData[i])\n",
    "    if i % 20 == 0:\n",
    "        # submit the objects from the batch to weaviate\n",
    "        client.batch.create_objects()\n",
    "         \n",
    "status_objects = client.batch.create_objects()\n",
    "client.batch.flush()"
   ]
  },
  {
   "cell_type": "code",
   "execution_count": 15,
   "metadata": {},
   "outputs": [
    {
     "name": "stdout",
     "output_type": "stream",
     "text": [
      "B0000D83BR\n",
      "{'overall': 1.0, 'verified': True, 'reviewTime': '11 6, 2017', 'reviewerID': 'A2JEXZB73CRPJS', 'asin': 'B0000D83BR', 'reviewerName': 'Norman P. Rounds', 'reviewText': 'Very cheaply made. It hardly picks up anything. A piece of crap!', 'summary': 'A piece of crap!', 'unixReviewTime': 1509926400}\n",
      "B0002EB670\n",
      "{'overall': 5.0, 'verified': True, 'reviewTime': '03 29, 2010', 'reviewerID': 'A2WZMVUM0DM520', 'asin': 'B0002EB670', 'reviewerName': 'Janice Jennings', 'reviewText': 'For some reason, the belts do not last very long, so keep extras on hand!', 'summary': 'Keep extras', 'unixReviewTime': 1269820800}\n"
     ]
    }
   ],
   "source": [
    "list = [ 5, 7]\n",
    "   \n",
    "# Using for loop\n",
    "for i in [5, 7]: #trange(0,6):\n",
    "    p_asid=productData[i]['asin']\n",
    "    print(p_asid)\n",
    "    print(reviews[p_asid][0])"
   ]
  },
  {
   "cell_type": "code",
   "execution_count": 21,
   "metadata": {},
   "outputs": [
    {
     "name": "stdout",
     "output_type": "stream",
     "text": [
      "B0000D83BR\n"
     ]
    },
    {
     "data": {
      "text/plain": [
       "{'overall': 1.0,\n",
       " 'verified': True,\n",
       " 'reviewTime': '11 6, 2017',\n",
       " 'reviewerID': 'A2JEXZB73CRPJS',\n",
       " 'asin': 'B0000D83BR',\n",
       " 'reviewerName': 'Norman P. Rounds',\n",
       " 'reviewText': 'Very cheaply made. It hardly picks up anything. A piece of crap!',\n",
       " 'summary': 'A piece of crap!',\n",
       " 'unixReviewTime': 1509926400}"
      ]
     },
     "execution_count": 21,
     "metadata": {},
     "output_type": "execute_result"
    }
   ],
   "source": [
    "i=5\n",
    "p_asid=productData[i]['asin']\n",
    "print(p_asid)\n",
    "reviews[p_asid][0]\n",
    "#print(reviews[p_asid])"
   ]
  },
  {
   "cell_type": "markdown",
   "metadata": {},
   "source": [
    "productData[5]"
   ]
  },
  {
   "cell_type": "code",
   "execution_count": 27,
   "metadata": {},
   "outputs": [
    {
     "data": {
      "text/plain": [
       "151"
      ]
     },
     "execution_count": 27,
     "metadata": {},
     "output_type": "execute_result"
    }
   ],
   "source": [
    "len(productData)"
   ]
  },
  {
   "cell_type": "code",
   "execution_count": 16,
   "metadata": {},
   "outputs": [
    {
     "name": "stderr",
     "output_type": "stream",
     "text": [
      "100%|██████████| 9/9 [00:00<00:00, 175.77it/s]\n"
     ]
    },
    {
     "name": "stdout",
     "output_type": "stream",
     "text": [
      "B00002N8CX\n",
      "B000050686\n",
      "B000050HCV\n",
      "B00005V9E3\n",
      "B0000D83BR\n",
      "B0001AOE5Q\n",
      "B0002EB670\n",
      "B0002U352S\n",
      "B0002U373A\n"
     ]
    }
   ],
   "source": [
    "from tqdm import trange\n",
    "\n",
    "for i in trange(1, 10): \n",
    "    product_id = add_product(client.batch, productData[i])\n",
    "\n",
    "    p_asid=productData[i]['asin']\n",
    "    print(p_asid)\n",
    "\n",
    "\n",
    "    for review in reviews[p_asid]:\n",
    "        # add review to the batch\n",
    "        review_id = add_review(client.batch, review)\n",
    "\n",
    "        # add cross references to the batch\n",
    "        add_references(client.batch, product_id=product_id, review_id=review_id)\n",
    "\n",
    "\n",
    "    if i % 20 == 0:\n",
    "        # submit the objects from the batch to weaviate\n",
    "        client.batch.create_objects()\n",
    "        # submit the references from the batch to weaviate\n",
    "        client.batch.create_references()\n",
    "\n",
    "         \n",
    "status_objects = client.batch.create_objects()\n",
    "status_references = client.batch.create_references()\n",
    "client.batch.flush()"
   ]
  },
  {
   "cell_type": "code",
   "execution_count": 17,
   "metadata": {},
   "outputs": [
    {
     "name": "stdout",
     "output_type": "stream",
     "text": [
      "Number of reviews returned: 9\n"
     ]
    }
   ],
   "source": [
    "result = client.query.get(class_name='Product', properties=\"title\")\\\n",
    "    .do()\n",
    "print(f\"Number of reviews returned: {len(result['data']['Get']['Product'])}\")\n",
    "#result"
   ]
  },
  {
   "cell_type": "code",
   "execution_count": null,
   "metadata": {},
   "outputs": [],
   "source": [
    "Below are old ones "
   ]
  },
  {
   "cell_type": "markdown",
   "metadata": {},
   "source": [
    "from weaviate.batch import Batch # for the typing purposes\n",
    "from weaviate.util import generate_uuid5 # old way was from weaviate.tools import generate_uuid\n",
    "import helper\n",
    "from weaviate.util import generate_uuid5 # old way was from weaviate.tools import generate_uuid\n",
    "\n",
    "\n",
    "def add_product(batch: Batch, product_data: dict) -> str:\n",
    "    product_object = {\n",
    "        'asin': product_data['asin'] if 'asin' in product_data else '',\n",
    "        'title': product_data['title'] if 'title' in product_data else '',\n",
    "        'main_cat': product_data['main_cat'] if 'main_cat' in product_data else '',\n",
    "        'description':product_data['description'] if 'description' in product_data else '',               \n",
    "        'feature': product_data['feature'] if 'feature' in product_data else '',\n",
    "        'price': float(product_data['price'].replace(\"$\",\"\").replace(\",\",\"\")) if 'price' in product_data else float(\"NaN\")\n",
    "    }\n",
    "    # generate an UUID for the Author\n",
    "    product_id = generate_uuid('product', product_data['title']+product_data['asin'])\n",
    "   \n",
    "    # add article to the batch\n",
    "    batch.add_data_object(  # old way was batch.add(...)\n",
    "        data_object=product_object,\n",
    "        class_name='Product',\n",
    "        uuid=product_id\n",
    "    )\n",
    "    \n",
    "    return product_id\n",
    "\n",
    "def add_review(batch: Batch, review_data: dict) -> str:\n",
    "    review_object = {\n",
    "        'asin': review_data['asin'] if 'asin' in review_data else '',\n",
    "        'reviewText':review_data['reviewText'] if 'reviewText' in review_data else '',               \n",
    "        'summary': review_data['summary'] if 'summary' in review_data else ''\n",
    "    }\n",
    "    # generate an UUID for the review\n",
    "    review_id = generate_uuid('review', review_data['reviewText'])\n",
    "    #review_id = generate_uuid5(review)\n",
    "    # add article to the batch\n",
    "    batch.add_data_object(  # old way was batch.add(...)\n",
    "        data_object=review_object,\n",
    "        class_name='Review',\n",
    "        uuid=review_id\n",
    "    )\n",
    "    \n",
    "    return review_id\n",
    "\n",
    "\n",
    "def add_references(batch: Batch, product_id: str, review_id: str)-> None:\n",
    "    # add references to the batch\n",
    "    ## Review -> Product\n",
    "    batch.add_reference(  \n",
    "        from_object_uuid=review_id,\n",
    "        from_object_class_name='Review',\n",
    "        from_property_name='ofProduct',\n",
    "        to_object_uuid=product_id\n",
    "    )\n",
    "    \n",
    "    ## Product -> Review \n",
    "    batch.add_reference(  \n",
    "        from_object_uuid=product_id,\n",
    "        from_object_class_name='Product',\n",
    "        from_property_name='hasReviews',\n",
    "        to_object_uuid=review_id\n",
    "    )"
   ]
  },
  {
   "cell_type": "markdown",
   "metadata": {},
   "source": [
    "from tqdm import trange\n",
    "\n",
    "for i in trange(1, 1000):\n",
    "    review_id = add_review(client.batch, reviewData[i])         \n",
    "      \n",
    "status_objects = client.batch.create_objects()\n",
    "client.batch.flush()"
   ]
  },
  {
   "cell_type": "code",
   "execution_count": null,
   "metadata": {},
   "outputs": [
    {
     "name": "stdout",
     "output_type": "stream",
     "text": [
      "Number of reviews returned: 100\n"
     ]
    },
    {
     "data": {
      "text/plain": [
       "{'data': {'Get': {'Review': [{'reviewText': \"I am very pleased with my new Dyson. The roller ball system really does make it easier to navigate the unit around the house. It is a tad smaller than I'm used to but that smaller=lighter and I'm getting used to it. I had literally vacuumed the day before with my old Hoover and then vacuumed again with the new dyson the day it arrived I had to empty the contained 4 times! The carpet looked amazing. This unit is a little expensive but well worth the money, no more bargain vacuum cleaners for me!\"},\n",
       "    {'reviewText': \"I have an old electrolux and was afraid I wouldn't be able to find the bags, but I was wrong.  I ordered these and they are exactly right.  Thank you\"},\n",
       "    {'reviewText': 'So I guess I would give this 4.5 stars.  It isn\\'t perfect, but I actually like it more than any vacuum I have ever owned.  I bought it in 2010 when my German shepherd was a puppy.  We already had a golden retriever and the two together were making more fur than I could handle.  I looked for a vacuum I could carry around and suck up clumps of fur from corners with, and this is GREAT for that.  I do not use the attachments often, but usually just hold the wand less than an inch from my hardwood to suck up fur. Sometimes if there are fine particles I sweep with a broom and use this baby to suck up the piles. I change the bag about every second month, even with only one dog remaining.  He sheds ALOT.  A couple of years ago the hose kinked and began collapsing on itself.  I replaced it with a $26 replacement I found here on amazon and it works better than the original (more sturdy).\\nI love this vacuum because it sucks up hair so well and the wand is long so you can suck up spiders from corners and all other manner of things no one wants to get near.  And then you just toss the bag and start fresh!  I just decided to leave our old one at our second home and buy a new one for this house.  I hope this one lasts as long as the other one has.  From reading reviews I think I have the \"newer\" version anyway, so unless they made more changes I hope to own this one for years to come.  BTW, it is also CHEAPER today than it was in 2010.  That doesn\\'t bode well for construction, but I\\'ll take it unless it proves otherwise.  My first one was around $100, and today it is only $83.  But for the 8 years and still counting I have had the other one, $100 is pretty darn good!!'},\n",
       "    {'reviewText': \"I needed a vacuum but didn't want to spend a lot of money. This one was on sale for a good value. I like bagged vacuums, although a lot of people don't. It lost suction after about three years. I'm sure it's probably user error--I'm rough on vacuums! I don't know how to service vacuums so I sold it at a yard sale and bought another vacuum (I can't remember the brand). It cost twice as much and the new one is a piece of crap. The new one I bought is so complicated and has so many dials and the part where the dust is is hard to get out and seems to clog easy.\\n\\nThe hoover tempo is not top of the line, but it's a simple bagged model and I really had no complaints while I was using it.\"},\n",
       "    {'reviewText': 'I use this to vacuum cat hair off of carpeted cat trees and to clean up vehicle upholstery.  It works very well.  It is a little heavy, but no heavier than pushing an upright vacuum.  I wear earplugs when I use it because it is pretty loud.  Love how long the cord is!'},\n",
       "    {'reviewText': \"It may be lightweight, but it's impossible for me to push it on carpet, and my carpet doesn't even have thick pile.  The only way I could move this vacuum on my carpet was to drag it backwards.  Some reviewers say it's hard to push because it's got such powerful suction.  That may be, but it also doesn't have any height adjustment, which would help a lot.  I ended up buying a different vacuum because this one was impossible for me to push.\"},\n",
       "    {'reviewText': \"I have a dog, a cat, and 2 birds and a lot of little messes.  I hate getting the big vac out every day or 2 to tidy up. I went looking for a hand vac and found this one.  I haven't had one for a while and the last one was next to useless.  I charged this one, attached the brush and went to work.  vvrooomm!  I was impressed with the way it cleaned up pet hair, and bird seed.  It didn't blow stuff everywhere like my last vac.  It's not too heavy and the handle is comfortable and it feels well-balanced.  It ran out pretty quickly, but the instructions said it would take 2 or 3 full charges to get up the long life it promised.  The second charge lasted longer and the third was bit better.  Still not a long time, but I can get done if I hurry.\\n  I like the little crevice nozzle, but I knew I would lose it so I attached it to the side of the vac with velcro.  That works great!  Just be sure and don't attach it over the air vents.  The filter looks like it will last a while.  I don't know how much replacements are.  It says it will last 6 months.  The attachments are easy to put on and take off.\\nOf course, like all bagless vacs, you have to dump the stuff (messy), and clean the filter.  It needs to be rinsed and let dry before reinstalling it.  4 stars because it doesn't seem to last as long as I think it should.  Maybe it will with a little more time if so, I'll give it a 5.\"},\n",
       "    {'reviewText': 'Tired of going through vacuums like toilet paper (2 dysons (1 refurbed, 1 bissell, a neato robot (too be fare that was refurbed), this thing though, for the price I give 2 poops if it only last a year. Works great, however, do need to empty the canister a little more frequently since this product runs on the small side (compared to previous vacuums). Not sure how long the filter really last. Changed out the first one after a month of usage, had to bang out the dust with each emptying of the canister).'},\n",
       "    {'reviewText': \"I should have bought the Bissell, this just doesn't seem very good quality and the canister style is just not as easy to use. I tried it just once upon receipt.  I am disappointed The suction is not very strong at all. I am thinking of returning it but the effort to send it back is perhaps not worth it.\"},\n",
       "    {'reviewText': \"Ok.  But is light and picks up.  Loud. Can't get attachments in.\"},\n",
       "    {'reviewText': \"I like the vacuum;especially being bagless, the cord is not as long as I'd like, my last vacuum I could vacuum the whole house from one plug, I have to replug each time I got to a new room. The machine is built very sturdy, the hose is heavy duty and the accessories store very nicely in the unit. It is also much quieter than my last vacuum.\"},\n",
       "    {'reviewText': 'A great little vacuum that really works.  I got my first one at a garage sale and would order another one when this one needs replaced.'},\n",
       "    {'reviewText': \"Works great on our Kirby Aviar, same number belt as our old one, just different color text.  It's also significantly cheaper than those overpriced dealers want to sell them for around here.\"},\n",
       "    {'reviewText': 'Product is very well priced and packaged well. I would highly recommend this to anyone with this type of vacuum.'},\n",
       "    {'reviewText': \"This vacuum is awesome.  It's actually so powerful we have to turn off the beater bar when we vacuum our wool area rug.  We use it on carpet, rugs, door mats, and hardwood floors.\"},\n",
       "    {'reviewText': 'Just what we needed, having looked awhile to find some.'},\n",
       "    {'reviewText': \"I owned a Mighty Mite vacuum for YEARS!  It was SO old that it was covered with paint from my home redecoration done in 2000 and I had used it for years before THAT!  The on/off button no longer worked so I simply plugged it into the wall to get it running and when the plug finally disintegrated I knew it was time to buy another one.  Came here to Amazon, marketplace seller gave the fastest delivery in recorded history (IN 24 HOURS!) BUT...even though the machine itself does a great job, the parts are CHEAP!  The hose is not flexible, twists all the time, I wish I had saved the hose from the old one; the electric cord is awful, very stiff, very hard to wrap around the handle, and gets easily tangled in itself.  I love the Mighty Mite but the quality of parts just doesn't cut it; next time, I'll get another brand.\"},\n",
       "    {'reviewText': \"It's nice to have a smaller handheld that you can quickly take out for those small/sudden jobs, but overall it's not the best model.  This is mainly because the suction isn't superb, and the attachments fall out often.  Frustrating.  I have to say I did use it recently to vacuum out my car - being an apartment person, it was a novel thing so I was happy in general, but what with the attachments falling out and how long it took, I was a bit annoyed.\"},\n",
       "    {'reviewText': 'Seems to hold up great.  wish hose was little more rugged.  it seems to fold up on itself at times and i worry it will break well before the unit gives up the ghost.'},\n",
       "    {'reviewText': \"This is the perfect small vacuum for my house. I don't have much carpeting but I have pets and this little champ gets up all the pet hair and the little bit of carpeting I do have. It's lightweight and I can lift it, even with my bad back. I recommend this for small homes or apartments as I think a larger house might need something a bit more substantial. But for the price, you really can't beat this vacuum.\"},\n",
       "    {'reviewText': 'Work just as good as the more expensive ones I used to buy from Electrolux'},\n",
       "    {'reviewText': \"This was my first canister vacuum, I love the concept and it can get in corners like a regular stand up vacuum can't.  However, this product had many flaws.  The attachments kept coming apart with normal use (I used it twice), the hose and tube came apart, the tube and the floor attachment came apart.  Also there is an air flow control that is right where you hold the vacuum so I was inadvertently opening it and the vacuum wouldn't work as well.  It is now boxed up, ready to return.\"},\n",
       "    {'reviewText': \"Not as powerful as I was hoping for.  Cordless is nice and it is handy for quick pickups.  It just doesn't pick up  all of the stuff I would like it to.  Not a replacement for a shop vac.\"},\n",
       "    {'reviewText': \"This attachment probably would have worked fine getting the lint out of my dryer, but it didn't fit my Dyson vacuum cleaner. I really had a hard time finding one that did fit it.\"},\n",
       "    {'reviewText': 'I Love this canister vacuum.  I love that I can clean my hard wood floors, my rugs, my upholstered furniture and my table tops with all of the attachments.  It is easy to manouver this vac and it has great suction as well as rotary power.  I have a big dog and cats, so I need a great vacuum and this is the best I have ever had.  I have asthma, so bagless vacuums are out of the question because so much becomes airborne when cleaning the bagless, so this is really perfect for me.  Also, Amazon.com sells the bags much cheaper than anyone else.'},\n",
       "    {'reviewText': 'These bags really suck!  Yeah, baby!'},\n",
       "    {'reviewText': 'I recommend this vacumn because it is small and effective. I am impressed by its performance. I would give it a higher rating if It continues to perform this well after having it a year.'},\n",
       "    {'reviewText': 'This is a powerful little hand vac that looks like an assault weapon designed by an alien. It sucks, but only for six minutes! Then it is dead for another 2 1/2 hours, which is fine - who wants to hand vac for more than six minutes anyway? It would be nice if it had an on switch that stayed on. You have to hold the trigger in the on position. The biggest drawback is the lint trap latch, which is in such an awkward position that you need a tool (knife or other thin flat instrument) to release it. Remanufactured is fine in this case. . . it arrived looking like brand new.'},\n",
       "    {'reviewText': 'bought a used vaccuum at a garage sail. all it needed was a new belt and some bags. now it works great'},\n",
       "    {'reviewText': \"The suction on this little machine is unreal.  Sure, the parts are made of plastic and with careless throwing around, parts will break.  But if you are careful and don't step on the hose, you'll find this is a gem.  I have no carpets; just 2 throw rugs with non-rubber backing.  The 'carpet' feature totally cleans these rugs.  The floor feature is just what I need for my 2 floors of hardwood.  And the price?  OMG, if it quits in 2 years, I will have gotten my money's worth.\"},\n",
       "    {'reviewText': 'Quieter than some (though not \"quiet\"), and it does a good job on my bare floors. I don\\'t have carpet, so I don\\'t know about that. The cord is too short, as others have noted.  I LOVE not having vacuum bags!  Now, I live out in the country, and I just take this and my Roomba\\'s dust bins outside to dump out the dust and dog hair--if I had to mess with dumping it into a trash bag, I might not be so entranced.  I guess it depends on how much you hate having to remember to buy and change vacuum bags!'},\n",
       "    {'reviewText': \"Until I got the Dyson.  I was hesitant...a friend who owns a cleaning service told me that bagless vacuum cleaners just didn't work.  But after reading the reviews, I bought the Dyson anyhow.  My friend tried it, and she thought it was great.  She is now recommending the Dyson, especially to her clients with pets~  Finally, a bagless vacuum that works, is easy to clean, and never needs filters.\\n\\nI have a Siberian Husky. He sheds...constantly!  The Dyson does a great job.  We have some particularly thick carpeting, and the Dyson handles it as well as our standard carpet.  I use it on wood floors as well.\\n\\nBeing able to see how full it is makes more difference than I expected...partially because it fills up faster than I thought it would.  Emptying it is easy...much easier than changing the bags used to be.\\n\\nDurability seems very good.  We've been using it almost 2 years now, and it works and looks like new.  My last Hoover only lasted 2 years before the motor died, and it NEVER cleaned like the Dyson does.\\n\\nMy son has asthma and is very allergic to cats.  He often can't stay in a house where there is a cat for more than a few hours.  He visited a friend who owns a Dyson.  She vacuumed before he came, and he stayed for 2 days without having any breathing problems.  He was so impressed he mentioned it to me when he got home.  It takes a LOT for my son to notice anything that has to do with cleaning house!\\n\\nBy far the most satisfactory appliance I've ever purchased.\"},\n",
       "    {'reviewText': 'Awesome product, price and quality!'},\n",
       "    {'reviewText': \"What can I say other than WOW!  I spent a lot of time online looking over and reading reviews on many vacuums.  I personally have owned a Dirt Devil and a Bissel.  The Bissel was my current vac.  It worked great until after only a few short uses the telescopic wand lost all of its suction.  The owner's manual said to clean the filters so I followed the instructions and did that.  After having to wait 2 days for them to dry completely, even by a heater, I finally could vacuum again.  This did not last long.  After about two rooms I noticed that the wand again was losing suction.  This problem has gone on for the last year and I was finally fed up.  I keep a clean house so there is no way my vac should clog this often.  I also have no pets and just my husband and I live here.  After researching the Dyson and convincing my husband that $500.00 was not more than any vacuum could be worth, I got the DC17.  It works just like all the reviews claim.  I can tell, even after only using it once that my carpet and house seem to smell and feel cleaner.  I cleaned the whole house including dusting furniture with it and it never lost a bit of suction.  The canister is so easy to empty and because it is completely sealed it is clean to carry around to the trash can.  The ability to turn the rotating brush bar off makes it quick and simple to go from carpet to hard floors and on the hard floors it did not blow the dirt around the way most other vacs do.  It and it's accessories are made well and seem very solid, unlike the cheap plastic of my previous vacs.  Although the vac is not self propelled it almost seems to pull you along as you use it making it easy to manuver.  I also have older finiky carpet that with previous vacs could only be easily vacuumed in one particular direction.  With the Dyson I can go in any direction with ease.  Many reviews said that using the attachments was tricky, so I went to a local store and played with one to get used to them.  They are simple to figure out.  This is by far a solid vacuum that does what it says it will.  Absolutely worth every penny you will spend on it if you are the type of person that wants a clean house.  Check back for updates as I will let you know down the line how things are going.\"},\n",
       "    {'reviewText': \"Pros:\\n- Price\\n- Decent suction\\n- Easy to find and replace filters\\n\\nCons\\n- Vacuum hose kinks EASILY and FREQUENTLY, major annoyance\\n- Hairs gets trapped in the brush wheels and it's impossible to remove\\n\\nConclusion: would not buy again\"},\n",
       "    {'reviewText': \"Love it! Still have it today, it's light and has great suction\"},\n",
       "    {'reviewText': 'These fit perfectly!'},\n",
       "    {'reviewText': 'A little vacuum that can really get the job done.'},\n",
       "    {'reviewText': \"It's really loud. I've had it for about an hour and used once it got alot of dirt up left behind from my old vacuum. Like a lot of dirt. But I've only used it once. It is super duper annoyingly loud\"},\n",
       "    {'reviewText': 'I honestly don\\'t understand the rave reviews for this thing (which prompted me to purchase it sight-unseen). It sucks well on bare floors, has a long cord and hose, and has a foot-thingy to change to carpet,  but so do plenty others without the following:\\n\\n1. Heavy. Reviewers say it\\'s pretty small and light but I find it hard to handle.\\n\\n2. Disobeys. Ok, I\\'m being funny but it doesn\\'t turn corners or doorways well. You have to pull on the hose and the minute there\\'s a slight turn, the hose bends all the way and blocks the air, letting out a very LOUD noise that scared the neighbor\\'s dogs.\\n\\n3. The hose is SOOOOO flimsy! My kid\\'s toy vac has a better one. Super thin inflexible plastic. A few more \"bends\" and it WILL crack. Since there\\'s no swivel on it either, it\\'ll bend and crack at the base too.\\n\\n4. The cord doesn\\'t retract (you roll / attach it to the underside). I haven\\'t seen that on the tiniest of vacs in 25 years so I never thought to look for this \"feature\".\\n\\n5. The tubes are flimsy too. When you\\'re using all 3 extensions (standard if you\\'re tall or just, you know, vac\\'ing), any pressure you might apply for a rug or what not bends the tubes.\\n\\n6. The \"air hole\" in the tube won\\'t stay shut. I\\'m not sure what that\\'s even for (suction reduction, maybe?) but I do know I rarely use it and it compromises regular performance. But it won\\'t stay shut! Keeps sliding open from the slightest of touches.\\n\\n7. Everything\\'s a bit \"too\" long, and \"too\" heavy, etc. It feels like it\\'s rebelling against being a compact.\\n\\nSo mostly, aside from the lack of a retractable cord, this vacuum HAS all the features, but they\\'re all POORLY executed so it\\'s awkward to use and will definitely break quickly. It was a bargain, but not THAT great of a bargain. CPO applied their refund policy and took it back. Very nice on the phone, too. I was bummed they didn\\'t carry an alternative model I liked so I could still give THEM my money. I would have.'},\n",
       "    {'reviewText': 'You\\'ll never buy another vacuum.  I cleaned my living room with my soon-to-be-former vacuum cleaner.  Then, brought \"animal\" home and went right at the living room -- I couldn\\'t believe how much it sucked up!  It\\'s powerful, versatile, easy to use.  The accessories are mostly onboard.'},\n",
       "    {'reviewText': 'Brang it home, figured I would have a learning curve with this new vac. Anyway if your looking for something easy to use move along all the low reviews I have to agree with. The hose is annoying and is not the most effecient thing to use. You literally have to stop, turn it off and take it out nothing smooth about it. Even with the 5 yr warranty you can still by 4 cheap vaccuums in the same time and be hassle free.  Got a dirt devil for the time being until I find what I really want. HORRIBLE'},\n",
       "    {'reviewText': \"We used it the first time and could not believe the dirt, dust, cat hair, junk, etc., etc. that was in the canister.\\n\\nUsed it again about 3 days  later over the same floor area and, WOW, it picked up the same stuff again.\\n\\nI cannot tell you how impressed we are with the performance that the Dyson DC25 is giving us. Amazing.\\n\\nSimple to use, simple to clean up around the house, simple to dump. We're sold!\"},\n",
       "    {'reviewText': \"Just received this and used it once.  We have three pups - their dander gets in the air and lands on everything (they are pitties, so they don't shed much).  We have a huge farmhouse with mostly bare floors....the suction worked very well.  Sweeping was not cutting it for us anymore and our large upright vacuum just spit dust and dander out the back and all over everything again.  The Pet Lover vac didn't leave anything behind.  I think I'm going to really like this vacuum.\"},\n",
       "    {'reviewText': 'Had a long enough hose to dust with that was the reason for buying this . Work real well it did.'},\n",
       "    {'reviewText': \"After buying and returning countless vacuum cleaners I am so happy I finally found the one that I will keep. I love the styling of it and the fact that it's engineered in Germany. Its very sturdy, light weight, easy to handle and it charges quickly and the charge lasts a long time. It works great on my carpets and on my hardwood floors I even use it on the couch. I know that I will enjoy this great vacuum for many long years to come!\"},\n",
       "    {'reviewText': 'I bought the Eureka 3684F for one reason.  It has an extra long hose and can be extended.  It is also very light so one can get up on a ladder with the vacuum and clean pot shelves and high places that you cannot reach with any other vacuum. For this reason, I would rate it excellent.\\n\\nI only gave it 3 stars for the following reasons. It is very basic.  No bells and whistles here.  It has a pretty flimsy hose.  The cord is very long which is good but you have to wrap it on the vacuum when you put it away and I think this is a nuisance,  I also think that one should be able to turn it on at the hose.  Would I buy it again?  Yes I would, as it serves it purpose.\\n\\nThe service from Amazon was excellent as usual.  It arrived in just a couple of days after placing the order and it shipped free.\\n\\nUpdate:  8/24/2013  I first reviewed this product 4 years ago and gave it 3 stars.  I am now giving it 4 stars as it is still going strong and I use it every day.  It is a basic model, several improvements could be made but I only paid around $60 for it. It has good suction.  I certainly got my moneys worth.'},\n",
       "    {'reviewText': 'This canister vac is still going strong.  For something that was cheaper it has held up.  Great for use on carpeted stairs and wood floors.'},\n",
       "    {'reviewText': 'Great little machine so far! Would like better if crevice tool was longer, and plastic hose more flexible.'},\n",
       "    {'reviewText': \"I bought this in August and thought it was the best little thing.  It made cleanup so easy.  I have pets and I really appreciated the motorized brush in picking up their fur from upholstery, etc.  It's been UNDER 2 months now and the motorized brush just stopped working.  I can't return it to Amazon because it's past the time frame.  So, I'd say don't buy it because now it only does half of what it could do and it must be really poorly made.\"},\n",
       "    {'reviewText': 'hose diameter needs to be bigger and hose is to soft ! A large bottle brush works great!'},\n",
       "    {'reviewText': \"Had I known about this vacuum a few years ago, I would have spared myself much aggravation and time.\\nThis vacuum does it all, at an amazingly low price and weight, and without taking too much space in my small apartment.\\n\\nEffortlessly picks up all the hair, dust balls, ground in dirt from the most difficult carpets. Power cord is\\nsuitably long. Yes it's noisy but not more than other powerful vacuums, and since it works so well,\\nit doesn't take long to do the job.\\n\\nThe only slight design flaws (if anyone from Dirt Devil is reading this) is a hose that's a bit short, and cleaning the filter: the manual says you should only shake out the dirt, not use any brushes (which I understand would compromise the filter), but the fact is that it's practically impossible to really clean the filter this way. I ended up using an old toothbrush to tap lightly on the filter to shake out dirt (better than hitting the filter against the garbage bin), and if there are dustballs stuck in the filter, to gently loosen them with the brush.  Time will tell if doing the latter will damage the filter in any way.\\nAs with all bagless vacuums, of course, you should wear a face mask and gloves while doing this, if you don't want all the dirt you've vacuumed and filtered out to get back out on you!\\n\\nOtherwise, has worked flawlessly - will see in another 6 months or a year if it still holds up.\"},\n",
       "    {'reviewText': 'How much can one say about a vacuum bag? It works.'},\n",
       "    {'reviewText': \"I will never want another vacuum. Simply amazing. I have a house with three cats. It gets dirt up I never knew existed. After several weeks of daily use it is finally not getting so much dirt, because my house is finally clean!\\n\\nI love how it gets so much dust and dirt and the design of the brush is incredible! Goodbye belts, bags and replacement filters... this guy has it all!  When I push it over a electric cord or cable it doesn't suck up the cord but it gets all the dirt around it.. I stand in awe.\\n\\nNow if I were to tell my grandpa I spent over three hundred dollars on a vacuum he would have fell over... But if its quality you want, there is no other choice for the price!\"},\n",
       "    {'reviewText': \"I owned this for about a year when it stopped working.  I had to continually depress the power button to get it to operate.  Dyson customer service acted like it was all my fault and I was not operating it correctly, even telling me that they had no idea what I was talking about the way I explained my problem.  They had me take it all apart, wash and clean everything, put it back together and call back.  Then they told me they still couldn't help me.  Of course, the one item I can't find my receipt for is this - it was a gift.  It's not like any one else makes a vacuum remotely like this.  I love my Dyson upright but will never try another cordless.  I hope I don't ever need customer service on the upright.\"},\n",
       "    {'reviewText': \"This is, hands down, the BEST vacuum I've ever used and it looks cool enough to serve as modern sculpture too - it is simply that attractive and wonderfully designed.\\nMAJOR PLUSES: the suction is strong and doesn't weaken over time, the canister unlocks easily when it needs to be emptied and you simply push a button to release the dirt into a wastebasket. It is bagless and the see-through canister lets you keep track of how full it is and when it needs to be emptied - plus you can literally see the dirt fly into the canister, whirling around like a little tornado. No dust or dirt escapes and goes into the air (or none that I could see).\\nWhen you aren't using them, all the various accessories (crevice tool, brushes, etc) lock into place on the vacuum and don't fall off, making it easy to keep them in place.\\nMy only complaint? The vacuum is a bit top-heavy and unbalanced, making it liable to tip over backwards (a real hazard if you've got it on the stairs). But this is a relatively minor problem and one that most adults can remember to avoid (I'd be careful about children using this vacuum, however, without plenty of adult supervision first).\\nThe lack of balance is enough of a concern that I felt compelled to give this vacuum only 4 stars, in spite of its strong assets. Even so, I'd buy another in a flash. It is wonderful!\"},\n",
       "    {'reviewText': 'Lots of suction and lightweight. What more can you ask?'},\n",
       "    {'reviewText': 'Great!!'},\n",
       "    {'reviewText': 'After receiving this I left it in the box unopened. Today I was going to do some cleaning. I took it out and there were NO BAGS included. So I have a useless vacuum til I get bags for it.'},\n",
       "    {'reviewText': 'Quality bags at a very good price'},\n",
       "    {'reviewText': 'Perfect for area rugs'},\n",
       "    {'reviewText': \"This vacuum cleaner is so much easier to use than the one it replaced.  The old one was a bag-less type that works only for a few minutes, then you'd have to stop to tear it apart to clean the canister and filters.  The HEPA filter it had was a royal pain in the ...., it would clog up in not time at all.  No suction until it was cleaned.  Typical with all bag-less cleaners, they will not work with very fine dust.\\n\\nThis little vacuum cleaner has plenty of suction and it allowed me to clean the whole house without loosing suction.  After the first bag filled up I pulled it out and replaced it with a new one, simple, easy, done in no time at all.  It made cleaning the house a pleasure (for the first time), and I didn't have to stop to clean the filters like I would have with the bag-less cleaner.  It is so easy to maneuver it around the house you almost forget its following you.  The floor cleaning wand and nozzle take no effort at all to use, plus I can now get under the furniture without having to move anything around.  This vacuum cleaner is one I should have bought in the first place, not to mention the amount of money it would have saved me.  Very pleased with this unit, and also the super service from Amazon.\"},\n",
       "    {'reviewText': 'Basically, the same as the \\'The Boss\\', model number 3670E, except it uses 3 AMPs more, and is less durable.\\n\\nThe noise level is about the same, noisy.\\n\\nThe bare floor brush width is shorter by about 1.5\", from the one supplied with model number 3670E, which is no longer marketed.\\n\\nThe hose material is thinner, and less durable.\\n\\nThe suction is strong.\\n\\nAfter just 1 year 5 months, the power switch cover broke off, after a depression.'},\n",
       "    {'reviewText': \"It broke after 4 uses. There was burning smell too during the 3rd use. On the last one, it wasn't even sucking in the dust. What a waste!\"},\n",
       "    {'reviewText': 'Works very well!  Quick delivery!'},\n",
       "    {'reviewText': 'This is the  product I needed. Works great and the shipping time was quick.'},\n",
       "    {'reviewText': 'These are GREAT and MUCH cheaper than the Electrolux brand.'},\n",
       "    {'reviewText': \"I've had mine for at least 8 years if not 10. just now having problems after my husband didn't know he needed to put a bag in it and ran it without. Currently cleaning the filter that sits under the bag to see if that helps. I've replaced belts over the years, mostly when I suck up the edge of a soft rug, it overheats and breaks easily.  We now use it primarily in our finished basement on medium pile carpet for cat dirt.\"},\n",
       "    {'reviewText': \"OK, I don't know that I can say it better than the title.  This thing sucks hard-core...  In the good way.  People who have, in other reviews, lambasted the packaging are either suffering from acute illiteracy (the directions for opening easily are on the box, plainly printed in large-font, high-contrast ink,) or severe near-sightedness.  Tonight, admittedly, was my first evening with the vacuum.  I did what I would consider a decent amount of testing by cleaning about half of the floor area of my apartment, including the rough slate-tiled kitchen, hallway and bathroom and a touch of carpeted living room, as well as a basic upholstery clean of the couch...  And let me tell you...  Wow.\\n\\nI am an allergy suffering asthmatic, and have always viewed vacuuming as a mildly unhealthy (albiet necessary) pass-time.  For the first time, ever, I was able to do the deed without breathing in half my own microscopic flakes of shed skin in the process.  A major plus.  The clean state of my massively uneven slate tile kitchen, after a fresh sweeping yesterday, is only the most basic testament to this machine's good design.  This was all achieved properly, without resort to the power brush.  Further, my previous vacuum, a sclerotic 18-amp Herbert dirt-mover, had left so much gunk in my rug that simply sweeping through a bit of the living room filled the dust reservoir almost by itself.  The side-to-side clean is appallingly awesome.  Dust was wicking across the floor to find a home in the guts of Sir Dyson's monster.  I plan on using the upholstery attachment on my mattress, and finishing a full clean of all the carpet in the apartment tomorrow to conclude this honeymoon...  Then, to promptly repeat twice a week for at least a month until I feel clean again.  The only criticisms I am forced to agree with (all of which I've read in reviews on amazon,) are as follows:\\n\\n* The ball is too tall to allow for much low-profile sub-furniture cleaning using the powered brush head.\\n* While the vacuum is quite maneuverable, sometimes the old back-and-forth still serves best...  The ball, in other words, will take a bit of time to get used to, and slows up cleaning for traditionalists.\\n* The power brush head is not wide enough to allow easy cleaning even under the modest overhang of standard modern cupboards, even given the ability to tilt the machine at 45 degrees to angle properly and dodge in sideways.\\n* There is nowhere to put the accessories that didn't come with the vacuum, so one is rather up the river if one would like a mini turbine-head someday...\\n* Use of the wand keeps one upright, but the flat upholstery tool is, umm... difficult to use.  The hose is just stiff enough to drag the vacuum a few feet behind one if one moves too much while captured by the muse of cleanliness.\\n* The vacuum always starts, if not in its locked upright state, with the power bar running.  If one had hardwood floors, I should think one would want Sir Dyson to make account for this.  The activation button is easy enough to toggle, but I'd personally rather turn the brush on than off.\\n\\nHonestly, that is about it.  I'm sure I'll come up with more to dislike over a great deal of time, but this is the first time I've been able to breathe without wheezing after vacuuming, ever...  The air smells clean, and isn't making me sick!  That's a gift well worth the price of a Dyson.\"},\n",
       "    {'reviewText': 'Works just a little better than my original that has lasted 28 years!!  I love it!'},\n",
       "    {'reviewText': 'For some reason, the belts do not last very long, so keep extras on hand!'},\n",
       "    {'reviewText': \"I bought this brand new at Lowes in 2007.  It's October 2016 and it's almost 10 years old.  I have had no complaints at all.  I'm actually taking it in today for a tune up and cleaning and the last time I had that done was nearly 5 years ago...whoops.  But it has never failed me.  I have not been kind to it over the years but the only thing that has worn out is the thin plastic hose.  That would be the only issue with the machine is how ridiculously thin the hose plastic is.  I put duct tape on it and it's fine now.  I'm running this thing till it blows up.  I even have a GE mixer in avocado green that is from 1960 and it is still going strong.  So I'm not sure what I'm doing right but with how rough I am with this vacuum it has never failed.  I recommend it!!!\"},\n",
       "    {'reviewText': \"Bags for Oreck upright vacum cleaner. What's not to like. They perform as advertised.\"},\n",
       "    {'reviewText': \"Pros:\\nGreat on Stairs\\nLong cord\\nSuction Hose\\n\\nCons:\\nVery Loud\\nHose suction is poor\\n\\nGreat vacuum if you only need it for stairs. Not recommended for a vehicle, since the hose is short and suction is not strong enough and it's too bulky to fit into smaller spaces.\"},\n",
       "    {'reviewText': 'constantly breaking and hard to change.'},\n",
       "    {'reviewText': \"...and  that job is catching houseflies!  That's right -- it comes with an extension hose and a shoulder strap so you can grip a survival knife in your free hand.  I recommend buying an extension chord so you can go all through the house.  I terminated about 30 houseflies (don't know where they came from), almost all of them from the air.  It's a very satisfying feeling when you outmaneuver a houselfy -- feeling its tiny body being torn apart by the 700 WATT engine of death.  Plus, it leaves no bug stains on the carpet or walls.  Just dump out the corpses when you are through, or pin them on tiny stakes and leave them out as an example to others.\"},\n",
       "    {'reviewText': 'Bags came as expected and were used immeadiately.  No problems with using this bag.  will purchase them again if needed.\\nThank you'},\n",
       "    {'reviewText': \"My only complaint is that it doesn't hav an on/off switch. You plug it in and it turns on. It is a small price to pay for such a powerful machine!\"},\n",
       "    {'reviewText': \"Great little machine, great price. What's not so great is how the hose kinks when you turn. Not a deal breaker but annoying.\"},\n",
       "    {'reviewText': \"I have been reading some horrible reviews on the Dyson and I'm very surprised. I bought a refurbished Animal in October 06 and have been loving it ever since! I have two 40lb long haired dogs so the animal hair is extreme, my house is also 80 years old, add dust to dog hair. I have mostly hardwood and ceramic flooring with a few area rugs. I rarely use my Swiffer any more because the hard surface attachment works so well, I hardly use a duster anymore because the brush attachments work so well. I use vacuum with the attachments on everything from silk lampshades to the pedestal sink in the bathroom. I use the dusting attachments (that came with the machine) on the walls, the ceilings, baseboards, moldings, TVs, furniture (upholstered & wood), window sills & window screens. I have a 12ft domed ceiling that the long hose works fantastic on. There are a couple of things I do with the Dyson, 1st is I always empty the canister before I put it away, 2nd I clean the brush bar almost every time I use it. The Dyson has NEVER lost suction and my house is always sparkling clean after I use it. The main reason I purchased the Dyson is because it's bag-less, with 2 long haired dogs I was always running out of vacuum bags. The Dyson has changed the way I clean.\\nUpdate 2013: The vac is still going strong, I'm married now and my husband loves it too. Whenever I have had a problem (2 times to be exact) I have called Dyson and the person who picked up the phone walked me through the issue and had it running again in about 10 minutes. I wish Dyson made cars.\"},\n",
       "    {'reviewText': 'As described would do business again, super-fast shipping, & great price!'},\n",
       "    {'reviewText': 'I bought this item to more easily vacuum my car, but its suction is so weak that I usually find myself continuing to lug my regular vacuum cleaner outside to do the job.'},\n",
       "    {'reviewText': \"My original Mighty Mite lasted for many years.  I replaced it after a workman killed it when vacuuming up construction waste.\\nIt wasn't great but it did the job at a good price so I bought two new ones, one for me and one for a friend.  Both are scary. After less than 10 minutes of us the top handles get very very hot.\"},\n",
       "    {'reviewText': 'This is the second one I purchased, its such a strong little vac...Just love it!'},\n",
       "    {'reviewText': 'the best vacuum cleaner in the world.  2 thumbs up.'},\n",
       "    {'reviewText': 'From \\'70, I had a Kirby, then in \\'97, a Rainbow. Both \"commission\" appliances. Pricey, is a mild statement. Now I\\'m tired of dragging the  canister around and emptying the water-bath after every use. The DC15 is certainly a very different \"animal\". As an upright, there is a LOT going on with it\\'s functions. It takes a little getting used to if you\\'ve been using a canister type for years, but not difficult. It\\'s nice having quick-change cleaning capabilities right at hand. Floors to ceiling fans, carpets to bookcases and cabinets..no going back to a closet to get another tool. Changing \"weapons\" is a snap, and this thing has all the power anyone would need or want. My little adopted sister was very impressed with how easy it was to empty. Even tho she had sore muscles from about an hours use with it. (She\\'s never used an upright). Now she\\'s quite interested in one herself as her old Drag-Behind is on it\\'s last skids. The Dyson is also reasonably quiet and at least as good in filtering dust as my Rainbow was. I did purchase 3 other acc.brushes and the low-reach floor head for getting under other furniture where the \"robot\" won\\'t go. So far, I\\'m very pleased.'},\n",
       "    {'reviewText': 'This was a gift for my daughter.  She tried it almost immediately after receiving it and she said it is incredible...very pleased with it..  Thank you.'},\n",
       "    {'reviewText': \"LOVE THESE VAC'S AS I HAVE CATS AND THEY REALLY WORK WELL!!\"},\n",
       "    {'reviewText': 'I was killing myself vacuuming with a large vacuum. I had a spinal fusion and vacuuming is really hard on the back. I was amazed that this worked just fine, good suction and weighs next to nothing. I love it and tell my friends i know with back problems this is the vacuum to get!'},\n",
       "    {'reviewText': 'Great item . I am a house cleaner and needed this for my business. Its lightweight and works great .'},\n",
       "    {'reviewText': 'Beautiful design aesthetically, & it does clean more deeply than standard vacuums, possibly as it says because the bag is located within the roller unit near to the ground, or i would suggest, because the dirt bag is smaller. However that does necessitate constant bag changes, which can be expensive, but 3rd parties do offer good value.\\nOne problem though. While sturdy, the hinge of the handle appears to create wiring issues for the cable within it. 15 months after purchase, I had power to vacuum (power switch was lit), but no ability to switch roller on off. I unscrewed the handle, fiddled with the wires, & it was working again. Something to watch, as your nearest electrolux warranty station may, as in my case, be too far away.'},\n",
       "    {'reviewText': 'it works, its powerful...if you just want to vacuum the floors and not use the extending \"arm\" this is a great vacuum....but the vacuum tube that you use with the brush etc is reallyyyy short. I could\\'t vacuum the top of the bed without having to pick up the whole thing because it would\\'t reach. I would not recommend this, there are better ones out there.'},\n",
       "    {'reviewText': \"Lot's of spirited reviews over a vacuum cleaner.  After purchasing this Dyson, I have to come down on the side of the positive, and I'm not a Dyson employee.  The vacuum worked better than any vacuum we've ever owned.  My wife even noticed that the carpet felt fluffier under her feet.  It went from a bare floor to a short shag to a thick wool carptet that no vacuum cleaner has ever done a good job with.  Other items of note.  It is quiet.  It can be taken apart to clean (as a tinkerer, I like this).  The cord is finally long enough to do most of the house.  It is plastic, but the plastic seems to be of a high grade, and probably contributes substantially to the lack of weight.  It pushes fairly easily for not being self propelled.  Best of all I can see how much stuff it picks up.  The old Hoover did fine with a new bag, but not so good after that.  Remembering to change the bag was difficult (and ultimately expensive).  Here I can see the stuff in the canister to remember to empty it.  Over all a cool vacuum cleaner.\\n\\nAddition (2-09):  After five years of use, no problems.  No parts breaking or falling off, as some have experienced.  Need to clean beater bar fairly often, but that isn't a real problem.  Sturdier than I thought it would be.\\n\\nAddition (11-14):  Ten years anniversary.  Not a problem to be had.  Never had to replace a part.  The original foam filter still good.  None of the plastic parts broke, as I had feared.  Good product.\"},\n",
       "    {'reviewText': 'This vaccuum really sucks up dirt, and both of my children LOVED it.  It was a joint gift from Santa they recieved today (12/27/11).  Batteries were placed in the product shortly before noon and by 7pm the product had stopped working.  The vaccuum was used as a normal vaccuum all day.  It was the surprize favorite toy of christmas.  It is very sad that it stopped working.  On the off chance its is the batteries I will purchase new ones tonight.  Without the sucking noise and the little pebbles bouncing around to simulate a real vaccuum the toy is just not as much fun and therefore a waste of money.  Overall this toy is worth three stars but had it worked longer (more than a month) I would have easily given it five stars because it really did suck up some dirt and make two children very happy (one six year old and one toddler).'},\n",
       "    {'reviewText': \"These little Dirt Devils are just excellent!  I have had one for years, ordered this one for a friend as she doesn't have an Amazon account and her old one finally gave out.  They are wonderful for spot jobs, stairs, upholstery and such.  I especially like to use them to clean my vehicles.  Their little beater bar is just great.  I would recommend this product to anyone and the price here is right.\"},\n",
       "    {'reviewText': 'I got my new Dyson vacuum delivered today, It was really easy to put together. I had cleaned last night and vacuumed with my top of the line Kenmore. I went over the same carpets with the Dyson today. The results were unbelievable  the \"clean bin\" hit the max mark in the first 15 minutes.  I am rather disgusted with how dirty my carpets really were, and how poorly the Kenmore cleaned for the same money.\\n\\nI now want a Dyson for upstairs and one for downstairs.'},\n",
       "    {'reviewText': 'I went to my local Oreck store to purchase bags, the cost went through the roof so I thought I would try a generic version. These are great bags and I think are just as good as the costly ones.'},\n",
       "    {'reviewText': 'Great little vacuum, been using it for a couple of months now with no problems.  Wish it had come with a better attachment for thicker pile rugs.  I have 2 dogs that shed a lot and all hard wood floors. This does great and have had no problems with clogging from the hair.'},\n",
       "    {'reviewText': 'I bought this Dyson from AMZN earlier this year.  It does have great suction and the on-board tools are very handy, but there are a number of reasons I wish I had bought something different.\\n\\nFor one thing, it IS heavy for a female \"senior.\"  There is nothing light-weight about this vacuum.  My house is two-story and I have an Oreck upstairs.  I could not carry this Dyson back and forth between the levels.  I showed it to a much younger friend over Thanksgiving and he also thought it was very heavy.\\n\\nNext, it is a pain to use on stairs.  The hose is not long enough and is certainly not very flexible.  I don\\'t think it will last very long and will have to be replaced.\\n\\nThey make much about this ball technology and the ease of getting the Dyson around furniture.  While that might be true, the fact that the ball itself and the suction tube get in the way of most baseboards, under cabinets, under furniture, makes that feature useless.\\n\\nLastly, there are those buyers who have mentioned the amount of plastic on these products.  Dyson has fooled us all with its marketing.  There is very little that is really special about them.  Many of the old names are producing better vacuums and with much better prices and warranties.  Check those out before making a investment in this item.'},\n",
       "    {'reviewText': 'Work just as good as the more expensive ones I used to buy from Electrolux'}]}}}"
      ]
     },
     "execution_count": 139,
     "metadata": {},
     "output_type": "execute_result"
    }
   ],
   "source": [
    "result = client.query.get(class_name='Review', properties=\"reviewText\")\\\n",
    "    .do()\n",
    "print(f\"Number of reviews returned: {len(result['data']['Get']['Review'])}\")\n",
    "result"
   ]
  },
  {
   "cell_type": "code",
   "execution_count": 458,
   "metadata": {},
   "outputs": [
    {
     "name": "stdout",
     "output_type": "stream",
     "text": [
      "Number of reviews returned: 2\n"
     ]
    },
    {
     "data": {
      "text/plain": [
       "{'data': {'Get': {'Product': [{'price': 3.76}, {'price': 30.44}]}}}"
      ]
     },
     "execution_count": 458,
     "metadata": {},
     "output_type": "execute_result"
    }
   ],
   "source": [
    "result = client.query.get(class_name='Product', properties=\"price\")\\\n",
    "    .do()\n",
    "print(f\"Number of reviews returned: {len(result['data']['Get']['Product'])}\")\n",
    "result"
   ]
  },
  {
   "cell_type": "markdown",
   "metadata": {},
   "source": [
    "from tqdm import trange\n",
    "\n",
    "for i in trange(1, 3025):\n",
    "    product_id = add_product(client.batch, productData[i])         \n",
    "    client.batch.create_objects()\n",
    "status_objects = client.batch.create_objects()\n",
    "client.batch.flush()"
   ]
  }
 ],
 "metadata": {
  "interpreter": {
   "hash": "2bc68644eae3242e56bd75e747837eb550b8c90cd0d79155548d146508e9d1e3"
  },
  "kernelspec": {
   "display_name": "Python 3.8.13 (conda)",
   "language": "python",
   "name": "python3"
  },
  "language_info": {
   "codemirror_mode": {
    "name": "ipython",
    "version": 3
   },
   "file_extension": ".py",
   "mimetype": "text/x-python",
   "name": "python",
   "nbconvert_exporter": "python",
   "pygments_lexer": "ipython3",
   "version": "3.8.13"
  },
  "orig_nbformat": 4
 },
 "nbformat": 4,
 "nbformat_minor": 2
}
