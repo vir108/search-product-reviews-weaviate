{
  "nbformat": 4,
  "nbformat_minor": 0,
  "metadata": {
    "colab": {
      "name": "cap_proj_weaviate_mvp.ipynb",
      "provenance": [],
      "collapsed_sections": [],
      "include_colab_link": true
    },
    "kernelspec": {
      "name": "python3",
      "display_name": "Python 3"
    },
    "language_info": {
      "name": "python"
    }
  },
  "cells": [
    {
      "cell_type": "markdown",
      "metadata": {
        "id": "view-in-github",
        "colab_type": "text"
      },
      "source": [
        "<a href=\"https://colab.research.google.com/github/yilin2718/search-product-reviews-weaviate/blob/main/cap_proj_weaviate_mvp.ipynb\" target=\"_parent\"><img src=\"https://colab.research.google.com/assets/colab-badge.svg\" alt=\"Open In Colab\"/></a>"
      ]
    },
    {
      "cell_type": "markdown",
      "source": [
        "Weaviate Python client\n",
        "\n",
        "https://weaviate-python-client.readthedocs.io/en/latest/index.html\n",
        "\n",
        "\n"
      ],
      "metadata": {
        "id": "oVdldfJveMpo"
      }
    },
    {
      "cell_type": "code",
      "execution_count": 15,
      "metadata": {
        "colab": {
          "base_uri": "https://localhost:8080/"
        },
        "id": "znhfuVbaeLzu",
        "outputId": "110b69f9-eecb-4d90-ae3c-b20de161a464"
      },
      "outputs": [
        {
          "output_type": "stream",
          "name": "stdout",
          "text": [
            "Drive already mounted at /content/drive; to attempt to forcibly remount, call drive.mount(\"/content/drive\", force_remount=True).\n"
          ]
        }
      ],
      "source": [
        "from google.colab import drive\n",
        "drive.mount('/content/drive')"
      ]
    },
    {
      "cell_type": "code",
      "source": [
        "cd /content/drive/MyDrive/MLops3/\n"
      ],
      "metadata": {
        "colab": {
          "base_uri": "https://localhost:8080/"
        },
        "id": "tlp9-AiweZnK",
        "outputId": "c6b142e4-b38f-495a-d3ec-0da5b5763d07"
      },
      "execution_count": 16,
      "outputs": [
        {
          "output_type": "stream",
          "name": "stdout",
          "text": [
            "/content/drive/MyDrive/MLops3\n"
          ]
        }
      ]
    },
    {
      "cell_type": "code",
      "source": [
        "pwd"
      ],
      "metadata": {
        "colab": {
          "base_uri": "https://localhost:8080/",
          "height": 35
        },
        "id": "yIBuMlp4gxWC",
        "outputId": "35156b32-0a9f-4bf2-92c3-18b6599276fd"
      },
      "execution_count": 3,
      "outputs": [
        {
          "output_type": "execute_result",
          "data": {
            "text/plain": [
              "'/content/drive/MyDrive/MLops3'"
            ],
            "application/vnd.google.colaboratory.intrinsic+json": {
              "type": "string"
            }
          },
          "metadata": {},
          "execution_count": 3
        }
      ]
    },
    {
      "cell_type": "code",
      "source": [
        "import sys\n",
        "!{sys.executable} -m pip install weaviate-client==2.5.0 "
      ],
      "metadata": {
        "colab": {
          "base_uri": "https://localhost:8080/"
        },
        "id": "eneSsJTfe4Lo",
        "outputId": "f3e71d51-3260-4799-93a5-550c0b28c8d4"
      },
      "execution_count": 17,
      "outputs": [
        {
          "output_type": "stream",
          "name": "stdout",
          "text": [
            "Collecting weaviate-client==2.5.0\n",
            "  Downloading weaviate_client-2.5.0-py3-none-any.whl (56 kB)\n",
            "\u001b[K     |████████████████████████████████| 56 kB 2.3 MB/s \n",
            "\u001b[?25hRequirement already satisfied: tqdm>=4.59.0 in /usr/local/lib/python3.7/dist-packages (from weaviate-client==2.5.0) (4.64.0)\n",
            "Collecting validators>=0.18.2\n",
            "  Downloading validators-0.19.0.tar.gz (30 kB)\n",
            "Requirement already satisfied: requests>=2.23.0 in /usr/local/lib/python3.7/dist-packages (from weaviate-client==2.5.0) (2.23.0)\n",
            "Requirement already satisfied: idna<3,>=2.5 in /usr/local/lib/python3.7/dist-packages (from requests>=2.23.0->weaviate-client==2.5.0) (2.10)\n",
            "Requirement already satisfied: urllib3!=1.25.0,!=1.25.1,<1.26,>=1.21.1 in /usr/local/lib/python3.7/dist-packages (from requests>=2.23.0->weaviate-client==2.5.0) (1.24.3)\n",
            "Requirement already satisfied: certifi>=2017.4.17 in /usr/local/lib/python3.7/dist-packages (from requests>=2.23.0->weaviate-client==2.5.0) (2021.10.8)\n",
            "Requirement already satisfied: chardet<4,>=3.0.2 in /usr/local/lib/python3.7/dist-packages (from requests>=2.23.0->weaviate-client==2.5.0) (3.0.4)\n",
            "Requirement already satisfied: decorator>=3.4.0 in /usr/local/lib/python3.7/dist-packages (from validators>=0.18.2->weaviate-client==2.5.0) (4.4.2)\n",
            "Building wheels for collected packages: validators\n",
            "  Building wheel for validators (setup.py) ... \u001b[?25l\u001b[?25hdone\n",
            "  Created wheel for validators: filename=validators-0.19.0-py3-none-any.whl size=19553 sha256=6506f712402a1aa386a5696983f2e966ae47d91188de0be2eff0b4c4828bc46b\n",
            "  Stored in directory: /root/.cache/pip/wheels/fe/5d/69/ff53a908b9f14fb7730a58fdede0fac4cdc99ef3624ec76d05\n",
            "Successfully built validators\n",
            "Installing collected packages: validators, weaviate-client\n",
            "Successfully installed validators-0.19.0 weaviate-client-2.5.0\n"
          ]
        }
      ]
    },
    {
      "cell_type": "code",
      "source": [
        "#from getpass import getpass # hide password\n",
        "import weaviate # to communicate to the Weaviate instance\n",
        "from weaviate.tools import WCS"
      ],
      "metadata": {
        "id": "Xrb7V4oXaJnI"
      },
      "execution_count": 18,
      "outputs": []
    },
    {
      "cell_type": "code",
      "source": [
        "my_credentials = weaviate.auth.AuthClientPassword(username=input(\"User name: \"), password=input('Password: '))"
      ],
      "metadata": {
        "id": "d2jOvQWSaJi8"
      },
      "execution_count": null,
      "outputs": []
    },
    {
      "cell_type": "code",
      "source": [
        "my_wcs = WCS(my_credentials)"
      ],
      "metadata": {
        "id": "FUCuZ2pqaX09"
      },
      "execution_count": 21,
      "outputs": []
    },
    {
      "cell_type": "markdown",
      "source": [
        "***Create a cluster***"
      ],
      "metadata": {
        "id": "cKsx67mqakC6"
      }
    },
    {
      "cell_type": "code",
      "source": [
        "cluster_name = 'sridiyer-first-weaviate-instance'\n",
        "weaviate_url = my_wcs.create(cluster_name=cluster_name)\n",
        "weaviate_url"
      ],
      "metadata": {
        "id": "GX2VoU5GaiHL",
        "colab": {
          "base_uri": "https://localhost:8080/",
          "height": 53
        },
        "outputId": "ae846006-aa00-4260-932f-d43a2a0675bd"
      },
      "execution_count": 22,
      "outputs": [
        {
          "output_type": "stream",
          "name": "stderr",
          "text": [
            "100%|██████████| 100/100 [00:57<00:00,  1.74it/s]\n"
          ]
        },
        {
          "output_type": "execute_result",
          "data": {
            "text/plain": [
              "'https://sridiyer-first-weaviate-instance.semi.network'"
            ],
            "application/vnd.google.colaboratory.intrinsic+json": {
              "type": "string"
            }
          },
          "metadata": {},
          "execution_count": 22
        }
      ]
    },
    {
      "cell_type": "markdown",
      "source": [
        "***Connect to the cluster***\n"
      ],
      "metadata": {
        "id": "zi66pB19jaHp"
      }
    },
    {
      "cell_type": "code",
      "source": [
        "\n",
        "client = weaviate.Client(weaviate_url)"
      ],
      "metadata": {
        "id": "5RDtw8tBavsz"
      },
      "execution_count": 23,
      "outputs": []
    },
    {
      "cell_type": "code",
      "source": [
        "client.is_ready()"
      ],
      "metadata": {
        "id": "dCMYlgpDawam",
        "colab": {
          "base_uri": "https://localhost:8080/"
        },
        "outputId": "e314e4c4-bc2a-4f17-aba6-71acadb91eb6"
      },
      "execution_count": 24,
      "outputs": [
        {
          "output_type": "execute_result",
          "data": {
            "text/plain": [
              "True"
            ]
          },
          "metadata": {},
          "execution_count": 24
        }
      ]
    },
    {
      "cell_type": "markdown",
      "source": [
        "***Get Data***"
      ],
      "metadata": {
        "id": "FUHUFYd4a3MD"
      }
    },
    {
      "cell_type": "code",
      "source": [
        "!wget http://deepyeti.ucsd.edu/jianmo/amazon/sample/Electronics.json.gz"
      ],
      "metadata": {
        "id": "wUUknfK-hBvQ"
      },
      "execution_count": null,
      "outputs": []
    },
    {
      "cell_type": "code",
      "source": [
        "!wget http://deepyeti.ucsd.edu/jianmo/amazon/sample/meta_Electronics.json.gz"
      ],
      "metadata": {
        "id": "-XV8s0YZg1Gn"
      },
      "execution_count": null,
      "outputs": []
    },
    {
      "cell_type": "code",
      "source": [
        "# get amazon product data\n",
        "\n",
        "import pandas as pd\n",
        "import gzip\n",
        "import json\n",
        "\n",
        "def parse(path):\n",
        "  #g = gzip.open(path, 'rb')\n",
        "  g = open(path, 'r')\n",
        "  for l in g:\n",
        "    yield eval(l)\n",
        "\n",
        "def getDF(path):\n",
        "  i = 0\n",
        "  df = {}\n",
        "  for d in parse(path):\n",
        "    df[i] = d\n",
        "    i += 1\n",
        "    if i == 10:\n",
        "      break\n",
        "  return pd.DataFrame.from_dict(df, orient='index')\n",
        "\n",
        "data_fn = 'reviews_Electronics_5.json' # expected in gz format\n",
        "df = getDF(data_fn)"
      ],
      "metadata": {
        "id": "l0noYMvqbvDW"
      },
      "execution_count": 6,
      "outputs": []
    },
    {
      "cell_type": "code",
      "source": [
        "df.head()"
      ],
      "metadata": {
        "colab": {
          "base_uri": "https://localhost:8080/",
          "height": 337
        },
        "id": "_vp0NYphebhj",
        "outputId": "97e30f1c-95d6-478a-d3f5-42ded19f9a1c"
      },
      "execution_count": 7,
      "outputs": [
        {
          "output_type": "execute_result",
          "data": {
            "text/plain": [
              "       reviewerID        asin              reviewerName   helpful  \\\n",
              "0   AO94DHGC771SJ  0528881469                   amazdnu    [0, 0]   \n",
              "1   AMO214LNFCEI4  0528881469           Amazon Customer  [12, 15]   \n",
              "2  A3N7T0DY83Y4IG  0528881469             C. A. Freeman  [43, 45]   \n",
              "3  A1H8PY3QHMQQA0  0528881469  Dave M. Shaw \"mack dave\"   [9, 10]   \n",
              "4  A24EV6RXELQZ63  0528881469               Wayne Smith    [0, 0]   \n",
              "\n",
              "                                          reviewText  overall  \\\n",
              "0  We got this GPS for my husband who is an (OTR)...      5.0   \n",
              "1  I'm a professional OTR truck driver, and I bou...      1.0   \n",
              "2  Well, what can I say.  I've had this unit in m...      3.0   \n",
              "3  Not going to write a long review, even thought...      2.0   \n",
              "4  I've had mine for a year and here's what we go...      1.0   \n",
              "\n",
              "                                  summary  unixReviewTime   reviewTime  \n",
              "0                         Gotta have GPS!      1370131200   06 2, 2013  \n",
              "1                       Very Disappointed      1290643200  11 25, 2010  \n",
              "2                          1st impression      1283990400   09 9, 2010  \n",
              "3                 Great grafics, POOR GPS      1290556800  11 24, 2010  \n",
              "4  Major issues, only excuses for support      1317254400  09 29, 2011  "
            ],
            "text/html": [
              "\n",
              "  <div id=\"df-68aa5ca4-7f40-4ead-8c41-e9359f4fed11\">\n",
              "    <div class=\"colab-df-container\">\n",
              "      <div>\n",
              "<style scoped>\n",
              "    .dataframe tbody tr th:only-of-type {\n",
              "        vertical-align: middle;\n",
              "    }\n",
              "\n",
              "    .dataframe tbody tr th {\n",
              "        vertical-align: top;\n",
              "    }\n",
              "\n",
              "    .dataframe thead th {\n",
              "        text-align: right;\n",
              "    }\n",
              "</style>\n",
              "<table border=\"1\" class=\"dataframe\">\n",
              "  <thead>\n",
              "    <tr style=\"text-align: right;\">\n",
              "      <th></th>\n",
              "      <th>reviewerID</th>\n",
              "      <th>asin</th>\n",
              "      <th>reviewerName</th>\n",
              "      <th>helpful</th>\n",
              "      <th>reviewText</th>\n",
              "      <th>overall</th>\n",
              "      <th>summary</th>\n",
              "      <th>unixReviewTime</th>\n",
              "      <th>reviewTime</th>\n",
              "    </tr>\n",
              "  </thead>\n",
              "  <tbody>\n",
              "    <tr>\n",
              "      <th>0</th>\n",
              "      <td>AO94DHGC771SJ</td>\n",
              "      <td>0528881469</td>\n",
              "      <td>amazdnu</td>\n",
              "      <td>[0, 0]</td>\n",
              "      <td>We got this GPS for my husband who is an (OTR)...</td>\n",
              "      <td>5.0</td>\n",
              "      <td>Gotta have GPS!</td>\n",
              "      <td>1370131200</td>\n",
              "      <td>06 2, 2013</td>\n",
              "    </tr>\n",
              "    <tr>\n",
              "      <th>1</th>\n",
              "      <td>AMO214LNFCEI4</td>\n",
              "      <td>0528881469</td>\n",
              "      <td>Amazon Customer</td>\n",
              "      <td>[12, 15]</td>\n",
              "      <td>I'm a professional OTR truck driver, and I bou...</td>\n",
              "      <td>1.0</td>\n",
              "      <td>Very Disappointed</td>\n",
              "      <td>1290643200</td>\n",
              "      <td>11 25, 2010</td>\n",
              "    </tr>\n",
              "    <tr>\n",
              "      <th>2</th>\n",
              "      <td>A3N7T0DY83Y4IG</td>\n",
              "      <td>0528881469</td>\n",
              "      <td>C. A. Freeman</td>\n",
              "      <td>[43, 45]</td>\n",
              "      <td>Well, what can I say.  I've had this unit in m...</td>\n",
              "      <td>3.0</td>\n",
              "      <td>1st impression</td>\n",
              "      <td>1283990400</td>\n",
              "      <td>09 9, 2010</td>\n",
              "    </tr>\n",
              "    <tr>\n",
              "      <th>3</th>\n",
              "      <td>A1H8PY3QHMQQA0</td>\n",
              "      <td>0528881469</td>\n",
              "      <td>Dave M. Shaw \"mack dave\"</td>\n",
              "      <td>[9, 10]</td>\n",
              "      <td>Not going to write a long review, even thought...</td>\n",
              "      <td>2.0</td>\n",
              "      <td>Great grafics, POOR GPS</td>\n",
              "      <td>1290556800</td>\n",
              "      <td>11 24, 2010</td>\n",
              "    </tr>\n",
              "    <tr>\n",
              "      <th>4</th>\n",
              "      <td>A24EV6RXELQZ63</td>\n",
              "      <td>0528881469</td>\n",
              "      <td>Wayne Smith</td>\n",
              "      <td>[0, 0]</td>\n",
              "      <td>I've had mine for a year and here's what we go...</td>\n",
              "      <td>1.0</td>\n",
              "      <td>Major issues, only excuses for support</td>\n",
              "      <td>1317254400</td>\n",
              "      <td>09 29, 2011</td>\n",
              "    </tr>\n",
              "  </tbody>\n",
              "</table>\n",
              "</div>\n",
              "      <button class=\"colab-df-convert\" onclick=\"convertToInteractive('df-68aa5ca4-7f40-4ead-8c41-e9359f4fed11')\"\n",
              "              title=\"Convert this dataframe to an interactive table.\"\n",
              "              style=\"display:none;\">\n",
              "        \n",
              "  <svg xmlns=\"http://www.w3.org/2000/svg\" height=\"24px\"viewBox=\"0 0 24 24\"\n",
              "       width=\"24px\">\n",
              "    <path d=\"M0 0h24v24H0V0z\" fill=\"none\"/>\n",
              "    <path d=\"M18.56 5.44l.94 2.06.94-2.06 2.06-.94-2.06-.94-.94-2.06-.94 2.06-2.06.94zm-11 1L8.5 8.5l.94-2.06 2.06-.94-2.06-.94L8.5 2.5l-.94 2.06-2.06.94zm10 10l.94 2.06.94-2.06 2.06-.94-2.06-.94-.94-2.06-.94 2.06-2.06.94z\"/><path d=\"M17.41 7.96l-1.37-1.37c-.4-.4-.92-.59-1.43-.59-.52 0-1.04.2-1.43.59L10.3 9.45l-7.72 7.72c-.78.78-.78 2.05 0 2.83L4 21.41c.39.39.9.59 1.41.59.51 0 1.02-.2 1.41-.59l7.78-7.78 2.81-2.81c.8-.78.8-2.07 0-2.86zM5.41 20L4 18.59l7.72-7.72 1.47 1.35L5.41 20z\"/>\n",
              "  </svg>\n",
              "      </button>\n",
              "      \n",
              "  <style>\n",
              "    .colab-df-container {\n",
              "      display:flex;\n",
              "      flex-wrap:wrap;\n",
              "      gap: 12px;\n",
              "    }\n",
              "\n",
              "    .colab-df-convert {\n",
              "      background-color: #E8F0FE;\n",
              "      border: none;\n",
              "      border-radius: 50%;\n",
              "      cursor: pointer;\n",
              "      display: none;\n",
              "      fill: #1967D2;\n",
              "      height: 32px;\n",
              "      padding: 0 0 0 0;\n",
              "      width: 32px;\n",
              "    }\n",
              "\n",
              "    .colab-df-convert:hover {\n",
              "      background-color: #E2EBFA;\n",
              "      box-shadow: 0px 1px 2px rgba(60, 64, 67, 0.3), 0px 1px 3px 1px rgba(60, 64, 67, 0.15);\n",
              "      fill: #174EA6;\n",
              "    }\n",
              "\n",
              "    [theme=dark] .colab-df-convert {\n",
              "      background-color: #3B4455;\n",
              "      fill: #D2E3FC;\n",
              "    }\n",
              "\n",
              "    [theme=dark] .colab-df-convert:hover {\n",
              "      background-color: #434B5C;\n",
              "      box-shadow: 0px 1px 3px 1px rgba(0, 0, 0, 0.15);\n",
              "      filter: drop-shadow(0px 1px 2px rgba(0, 0, 0, 0.3));\n",
              "      fill: #FFFFFF;\n",
              "    }\n",
              "  </style>\n",
              "\n",
              "      <script>\n",
              "        const buttonEl =\n",
              "          document.querySelector('#df-68aa5ca4-7f40-4ead-8c41-e9359f4fed11 button.colab-df-convert');\n",
              "        buttonEl.style.display =\n",
              "          google.colab.kernel.accessAllowed ? 'block' : 'none';\n",
              "\n",
              "        async function convertToInteractive(key) {\n",
              "          const element = document.querySelector('#df-68aa5ca4-7f40-4ead-8c41-e9359f4fed11');\n",
              "          const dataTable =\n",
              "            await google.colab.kernel.invokeFunction('convertToInteractive',\n",
              "                                                     [key], {});\n",
              "          if (!dataTable) return;\n",
              "\n",
              "          const docLinkHtml = 'Like what you see? Visit the ' +\n",
              "            '<a target=\"_blank\" href=https://colab.research.google.com/notebooks/data_table.ipynb>data table notebook</a>'\n",
              "            + ' to learn more about interactive tables.';\n",
              "          element.innerHTML = '';\n",
              "          dataTable['output_type'] = 'display_data';\n",
              "          await google.colab.output.renderOutput(dataTable, element);\n",
              "          const docLink = document.createElement('div');\n",
              "          docLink.innerHTML = docLinkHtml;\n",
              "          element.appendChild(docLink);\n",
              "        }\n",
              "      </script>\n",
              "    </div>\n",
              "  </div>\n",
              "  "
            ]
          },
          "metadata": {},
          "execution_count": 7
        }
      ]
    },
    {
      "cell_type": "code",
      "source": [
        "### load the meta data\n",
        "\n",
        "gzFile_name = 'meta_Electronics.json.gz'\n",
        "#gzFile_name = 'Electronics.json.gz'\n",
        "\n",
        "data = []\n",
        "with gzip.open('meta_Computers.json.gz') as f:\n",
        "    for l in f:\n",
        "        data.append(json.loads(l.strip()))\n",
        "    \n",
        "# total length of list, this number equals total number of products\n",
        "print(len(data))\n",
        "\n",
        "# first row of the list\n",
        "print(data[0])\n",
        "\n",
        "df = pd.DataFrame.from_dict(data)\n"
      ],
      "metadata": {
        "id": "IlrJa4o7eceV"
      },
      "execution_count": null,
      "outputs": []
    },
    {
      "cell_type": "code",
      "source": [
        "# clean up loaded data\n",
        "df3 = df.fillna('')\n",
        "df4 = df3[df3.title.str.contains('getTime')] # unformatted rows\n",
        "df5 = df3[~df3.title.str.contains('getTime')] # filter those unformatted rows\n",
        "print(len(df4))\n",
        "print(len(df5))"
      ],
      "metadata": {
        "id": "n7JL6KTAhwGs"
      },
      "execution_count": null,
      "outputs": []
    },
    {
      "cell_type": "markdown",
      "source": [
        "***Create Schema for Weaviate***\n"
      ],
      "metadata": {
        "id": "AkVx5qJ7iUau"
      }
    },
    {
      "cell_type": "code",
      "source": [
        "product_class_schema = {\n",
        "    # name of the class\n",
        "    \"class\": \"Product\",\n",
        "    \"description\" : \"A Product class to store the product information and its reviewers\",\n",
        "    \"properties\" : [\n",
        "                 {\n",
        "                    \"name\": \"asin\",\n",
        "                    \"dataType\": [\"string\"],\n",
        "                    \"description\": \"product id from amazon\",\n",
        "                },\n",
        "                {\n",
        "                    \"name\": \"title\",\n",
        "                    \"dataType\": [\"text\"],\n",
        "                    \"description\": \"The title of the product\",\n",
        "                },\n",
        "                {\n",
        "                    \"name\": \"description\",\n",
        "                    \"dataType\": [\"text\"],\n",
        "                    \"description\": \"The product description\",\n",
        "                },\n",
        "                {\n",
        "                    \"name\": \"price\",\n",
        "                    \"description\": \"The price of the wine in dollars\",\n",
        "                    \"dataType\": [\"number\"]\n",
        "                },\n",
        "                {\n",
        "                    \"name\": \"hasReviews\",\n",
        "                    \"dataType\": [\"Review\"],\n",
        "                    \"description\": \"List of reviews this product listing has \",\n",
        "                }                   \n",
        "    ]\n",
        "}"
      ],
      "metadata": {
        "id": "4Sxp1z3oiX0C"
      },
      "execution_count": 39,
      "outputs": []
    },
    {
      "cell_type": "code",
      "source": [
        "review_class_schema = {\n",
        "    \"class\": \"Review\",\n",
        "    \"description\": \"An Review class to store the review information\",\n",
        "    \"properties\": [\n",
        "                {\n",
        "                    \"name\": \"overall\",\n",
        "                    \"dataType\": [\"number\"],\n",
        "                    \"description\": \"overall score from user \",\n",
        "                },\n",
        "                {\n",
        "                    \"name\": \"reviewText\",\n",
        "                    \"dataType\": [\"text\"],\n",
        "                    \"description\": \"review text\",\n",
        "                },\n",
        "                {\n",
        "                    \"name\": \"summary\",\n",
        "                    \"dataType\": [\"text\"],\n",
        "                    \"description\": \"reviewer provided summary of review\",\n",
        "                },\n",
        "                {\n",
        "                    \"name\": \"ofProduct\",\n",
        "                    \"dataType\": [\"Product\"],\n",
        "                    \"description\": \"The product of the review\",\n",
        "                } \n",
        "    ]\n",
        "}"
      ],
      "metadata": {
        "id": "NA4O2qbHj2Tz"
      },
      "execution_count": 40,
      "outputs": []
    },
    {
      "cell_type": "code",
      "source": [
        "client.schema.create_class(product_class_schema)"
      ],
      "metadata": {
        "colab": {
          "base_uri": "https://localhost:8080/",
          "height": 336
        },
        "id": "-_D81aG3mblg",
        "outputId": "9abd3413-254b-48c5-ead3-940307e4da41"
      },
      "execution_count": 41,
      "outputs": [
        {
          "output_type": "error",
          "ename": "UnexpectedStatusCodeException",
          "evalue": "ignored",
          "traceback": [
            "\u001b[0;31m---------------------------------------------------------------------------\u001b[0m",
            "\u001b[0;31mUnexpectedStatusCodeException\u001b[0m             Traceback (most recent call last)",
            "\u001b[0;32m<ipython-input-41-5ff7f014abaf>\u001b[0m in \u001b[0;36m<module>\u001b[0;34m()\u001b[0m\n\u001b[0;32m----> 1\u001b[0;31m \u001b[0mclient\u001b[0m\u001b[0;34m.\u001b[0m\u001b[0mschema\u001b[0m\u001b[0;34m.\u001b[0m\u001b[0mcreate_class\u001b[0m\u001b[0;34m(\u001b[0m\u001b[0mproduct_class_schema\u001b[0m\u001b[0;34m)\u001b[0m\u001b[0;34m\u001b[0m\u001b[0;34m\u001b[0m\u001b[0m\n\u001b[0m",
            "\u001b[0;32m/usr/local/lib/python3.7/dist-packages/weaviate/schema/crud_schema.py\u001b[0m in \u001b[0;36mcreate_class\u001b[0;34m(self, schema_class)\u001b[0m\n\u001b[1;32m    141\u001b[0m         \u001b[0mcheck_class\u001b[0m\u001b[0;34m(\u001b[0m\u001b[0mloaded_schema_class\u001b[0m\u001b[0;34m)\u001b[0m\u001b[0;34m\u001b[0m\u001b[0;34m\u001b[0m\u001b[0m\n\u001b[1;32m    142\u001b[0m         \u001b[0mself\u001b[0m\u001b[0;34m.\u001b[0m\u001b[0m_create_class_with_premitives\u001b[0m\u001b[0;34m(\u001b[0m\u001b[0mloaded_schema_class\u001b[0m\u001b[0;34m)\u001b[0m\u001b[0;34m\u001b[0m\u001b[0;34m\u001b[0m\u001b[0m\n\u001b[0;32m--> 143\u001b[0;31m         \u001b[0mself\u001b[0m\u001b[0;34m.\u001b[0m\u001b[0m_create_complex_properties_from_class\u001b[0m\u001b[0;34m(\u001b[0m\u001b[0mloaded_schema_class\u001b[0m\u001b[0;34m)\u001b[0m\u001b[0;34m\u001b[0m\u001b[0;34m\u001b[0m\u001b[0m\n\u001b[0m\u001b[1;32m    144\u001b[0m \u001b[0;34m\u001b[0m\u001b[0m\n\u001b[1;32m    145\u001b[0m     \u001b[0;32mdef\u001b[0m \u001b[0mdelete_class\u001b[0m\u001b[0;34m(\u001b[0m\u001b[0mself\u001b[0m\u001b[0;34m,\u001b[0m \u001b[0mclass_name\u001b[0m\u001b[0;34m:\u001b[0m \u001b[0mstr\u001b[0m\u001b[0;34m)\u001b[0m \u001b[0;34m->\u001b[0m \u001b[0;32mNone\u001b[0m\u001b[0;34m:\u001b[0m\u001b[0;34m\u001b[0m\u001b[0;34m\u001b[0m\u001b[0m\n",
            "\u001b[0;32m/usr/local/lib/python3.7/dist-packages/weaviate/schema/crud_schema.py\u001b[0m in \u001b[0;36m_create_complex_properties_from_class\u001b[0;34m(self, schema_class)\u001b[0m\n\u001b[1;32m    354\u001b[0m                 \u001b[0;32mraise\u001b[0m \u001b[0mtype\u001b[0m\u001b[0;34m(\u001b[0m\u001b[0mconn_err\u001b[0m\u001b[0;34m)\u001b[0m\u001b[0;34m(\u001b[0m\u001b[0mmessage\u001b[0m\u001b[0;34m)\u001b[0m\u001b[0;34m.\u001b[0m\u001b[0mwith_traceback\u001b[0m\u001b[0;34m(\u001b[0m\u001b[0msys\u001b[0m\u001b[0;34m.\u001b[0m\u001b[0mexc_info\u001b[0m\u001b[0;34m(\u001b[0m\u001b[0;34m)\u001b[0m\u001b[0;34m[\u001b[0m\u001b[0;36m2\u001b[0m\u001b[0;34m]\u001b[0m\u001b[0;34m)\u001b[0m\u001b[0;34m\u001b[0m\u001b[0;34m\u001b[0m\u001b[0m\n\u001b[1;32m    355\u001b[0m             \u001b[0;32mif\u001b[0m \u001b[0mresponse\u001b[0m\u001b[0;34m.\u001b[0m\u001b[0mstatus_code\u001b[0m \u001b[0;34m!=\u001b[0m \u001b[0;36m200\u001b[0m\u001b[0;34m:\u001b[0m\u001b[0;34m\u001b[0m\u001b[0;34m\u001b[0m\u001b[0m\n\u001b[0;32m--> 356\u001b[0;31m                 \u001b[0;32mraise\u001b[0m \u001b[0mUnexpectedStatusCodeException\u001b[0m\u001b[0;34m(\u001b[0m\u001b[0;34m\"Add properties to classes\"\u001b[0m\u001b[0;34m,\u001b[0m \u001b[0mresponse\u001b[0m\u001b[0;34m)\u001b[0m\u001b[0;34m\u001b[0m\u001b[0;34m\u001b[0m\u001b[0m\n\u001b[0m\u001b[1;32m    357\u001b[0m \u001b[0;34m\u001b[0m\u001b[0m\n\u001b[1;32m    358\u001b[0m     \u001b[0;32mdef\u001b[0m \u001b[0m_create_complex_properties_from_classes\u001b[0m\u001b[0;34m(\u001b[0m\u001b[0mself\u001b[0m\u001b[0;34m,\u001b[0m \u001b[0mschema_classes_list\u001b[0m\u001b[0;34m:\u001b[0m \u001b[0mlist\u001b[0m\u001b[0;34m)\u001b[0m \u001b[0;34m->\u001b[0m \u001b[0;32mNone\u001b[0m\u001b[0;34m:\u001b[0m\u001b[0;34m\u001b[0m\u001b[0;34m\u001b[0m\u001b[0m\n",
            "\u001b[0;31mUnexpectedStatusCodeException\u001b[0m: Add properties to classes! Unexpected status code: 422, with response body: {'error': [{'message': \"property 'hasReviews': invalid dataType: SingleRef class name 'Review' does not exist\"}]}"
          ]
        }
      ]
    },
    {
      "cell_type": "code",
      "source": [
        "# helper function\n",
        "def prettify(json_dict): \n",
        "    print(json.dumps(json_dict, indent=2))\n",
        "\n",
        "prettify(client.schema.get())"
      ],
      "metadata": {
        "colab": {
          "base_uri": "https://localhost:8080/"
        },
        "id": "ZJpqFuk_mdMP",
        "outputId": "e2373c85-3227-4e14-a01a-f1cc524a5d4b"
      },
      "execution_count": 42,
      "outputs": [
        {
          "output_type": "stream",
          "name": "stdout",
          "text": [
            "{\n",
            "  \"classes\": [\n",
            "    {\n",
            "      \"class\": \"Product\",\n",
            "      \"description\": \"A Product class to store the product information and its reviewers\",\n",
            "      \"invertedIndexConfig\": {\n",
            "        \"bm25\": {\n",
            "          \"b\": 0.75,\n",
            "          \"k1\": 1.2\n",
            "        },\n",
            "        \"cleanupIntervalSeconds\": 60,\n",
            "        \"stopwords\": {\n",
            "          \"additions\": null,\n",
            "          \"preset\": \"en\",\n",
            "          \"removals\": null\n",
            "        }\n",
            "      },\n",
            "      \"properties\": [\n",
            "        {\n",
            "          \"dataType\": [\n",
            "            \"string\"\n",
            "          ],\n",
            "          \"description\": \"product id from amazon\",\n",
            "          \"name\": \"asin\",\n",
            "          \"tokenization\": \"word\"\n",
            "        },\n",
            "        {\n",
            "          \"dataType\": [\n",
            "            \"text\"\n",
            "          ],\n",
            "          \"description\": \"The title of the product\",\n",
            "          \"name\": \"title\",\n",
            "          \"tokenization\": \"word\"\n",
            "        },\n",
            "        {\n",
            "          \"dataType\": [\n",
            "            \"text\"\n",
            "          ],\n",
            "          \"description\": \"The product description\",\n",
            "          \"name\": \"description\",\n",
            "          \"tokenization\": \"word\"\n",
            "        },\n",
            "        {\n",
            "          \"dataType\": [\n",
            "            \"number\"\n",
            "          ],\n",
            "          \"description\": \"The price of the wine in dollars\",\n",
            "          \"name\": \"price\"\n",
            "        }\n",
            "      ],\n",
            "      \"shardingConfig\": {\n",
            "        \"virtualPerPhysical\": 128,\n",
            "        \"desiredCount\": 1,\n",
            "        \"actualCount\": 1,\n",
            "        \"desiredVirtualCount\": 128,\n",
            "        \"actualVirtualCount\": 128,\n",
            "        \"key\": \"_id\",\n",
            "        \"strategy\": \"hash\",\n",
            "        \"function\": \"murmur3\"\n",
            "      },\n",
            "      \"vectorIndexConfig\": {\n",
            "        \"skip\": false,\n",
            "        \"cleanupIntervalSeconds\": 300,\n",
            "        \"maxConnections\": 64,\n",
            "        \"efConstruction\": 128,\n",
            "        \"ef\": -1,\n",
            "        \"dynamicEfMin\": 100,\n",
            "        \"dynamicEfMax\": 500,\n",
            "        \"dynamicEfFactor\": 8,\n",
            "        \"vectorCacheMaxObjects\": 2000000,\n",
            "        \"flatSearchCutoff\": 40000\n",
            "      },\n",
            "      \"vectorIndexType\": \"hnsw\",\n",
            "      \"vectorizer\": \"none\"\n",
            "    }\n",
            "  ]\n",
            "}\n"
          ]
        }
      ]
    },
    {
      "cell_type": "code",
      "source": [
        "client.schema.create_class(review_class_schema)\n",
        "prettify(client.schema.get())"
      ],
      "metadata": {
        "colab": {
          "base_uri": "https://localhost:8080/"
        },
        "id": "LCYrqtdomdHw",
        "outputId": "00024831-97b5-43b6-a942-93f468f194ad"
      },
      "execution_count": 43,
      "outputs": [
        {
          "output_type": "stream",
          "name": "stdout",
          "text": [
            "{\n",
            "  \"classes\": [\n",
            "    {\n",
            "      \"class\": \"Product\",\n",
            "      \"description\": \"A Product class to store the product information and its reviewers\",\n",
            "      \"invertedIndexConfig\": {\n",
            "        \"bm25\": {\n",
            "          \"b\": 0.75,\n",
            "          \"k1\": 1.2\n",
            "        },\n",
            "        \"cleanupIntervalSeconds\": 60,\n",
            "        \"stopwords\": {\n",
            "          \"additions\": null,\n",
            "          \"preset\": \"en\",\n",
            "          \"removals\": null\n",
            "        }\n",
            "      },\n",
            "      \"properties\": [\n",
            "        {\n",
            "          \"dataType\": [\n",
            "            \"string\"\n",
            "          ],\n",
            "          \"description\": \"product id from amazon\",\n",
            "          \"name\": \"asin\",\n",
            "          \"tokenization\": \"word\"\n",
            "        },\n",
            "        {\n",
            "          \"dataType\": [\n",
            "            \"text\"\n",
            "          ],\n",
            "          \"description\": \"The title of the product\",\n",
            "          \"name\": \"title\",\n",
            "          \"tokenization\": \"word\"\n",
            "        },\n",
            "        {\n",
            "          \"dataType\": [\n",
            "            \"text\"\n",
            "          ],\n",
            "          \"description\": \"The product description\",\n",
            "          \"name\": \"description\",\n",
            "          \"tokenization\": \"word\"\n",
            "        },\n",
            "        {\n",
            "          \"dataType\": [\n",
            "            \"number\"\n",
            "          ],\n",
            "          \"description\": \"The price of the wine in dollars\",\n",
            "          \"name\": \"price\"\n",
            "        }\n",
            "      ],\n",
            "      \"shardingConfig\": {\n",
            "        \"virtualPerPhysical\": 128,\n",
            "        \"desiredCount\": 1,\n",
            "        \"actualCount\": 1,\n",
            "        \"desiredVirtualCount\": 128,\n",
            "        \"actualVirtualCount\": 128,\n",
            "        \"key\": \"_id\",\n",
            "        \"strategy\": \"hash\",\n",
            "        \"function\": \"murmur3\"\n",
            "      },\n",
            "      \"vectorIndexConfig\": {\n",
            "        \"skip\": false,\n",
            "        \"cleanupIntervalSeconds\": 300,\n",
            "        \"maxConnections\": 64,\n",
            "        \"efConstruction\": 128,\n",
            "        \"ef\": -1,\n",
            "        \"dynamicEfMin\": 100,\n",
            "        \"dynamicEfMax\": 500,\n",
            "        \"dynamicEfFactor\": 8,\n",
            "        \"vectorCacheMaxObjects\": 2000000,\n",
            "        \"flatSearchCutoff\": 40000\n",
            "      },\n",
            "      \"vectorIndexType\": \"hnsw\",\n",
            "      \"vectorizer\": \"none\"\n",
            "    },\n",
            "    {\n",
            "      \"class\": \"Review\",\n",
            "      \"description\": \"An Review class to store the review information\",\n",
            "      \"invertedIndexConfig\": {\n",
            "        \"bm25\": {\n",
            "          \"b\": 0.75,\n",
            "          \"k1\": 1.2\n",
            "        },\n",
            "        \"cleanupIntervalSeconds\": 60,\n",
            "        \"stopwords\": {\n",
            "          \"additions\": null,\n",
            "          \"preset\": \"en\",\n",
            "          \"removals\": null\n",
            "        }\n",
            "      },\n",
            "      \"properties\": [\n",
            "        {\n",
            "          \"dataType\": [\n",
            "            \"number\"\n",
            "          ],\n",
            "          \"description\": \"overall score from user \",\n",
            "          \"name\": \"overall\"\n",
            "        },\n",
            "        {\n",
            "          \"dataType\": [\n",
            "            \"text\"\n",
            "          ],\n",
            "          \"description\": \"review text\",\n",
            "          \"name\": \"reviewText\",\n",
            "          \"tokenization\": \"word\"\n",
            "        },\n",
            "        {\n",
            "          \"dataType\": [\n",
            "            \"text\"\n",
            "          ],\n",
            "          \"description\": \"reviewer provided summary of review\",\n",
            "          \"name\": \"summary\",\n",
            "          \"tokenization\": \"word\"\n",
            "        },\n",
            "        {\n",
            "          \"dataType\": [\n",
            "            \"Product\"\n",
            "          ],\n",
            "          \"description\": \"The product of the review\",\n",
            "          \"name\": \"ofProduct\"\n",
            "        }\n",
            "      ],\n",
            "      \"shardingConfig\": {\n",
            "        \"virtualPerPhysical\": 128,\n",
            "        \"desiredCount\": 1,\n",
            "        \"actualCount\": 1,\n",
            "        \"desiredVirtualCount\": 128,\n",
            "        \"actualVirtualCount\": 128,\n",
            "        \"key\": \"_id\",\n",
            "        \"strategy\": \"hash\",\n",
            "        \"function\": \"murmur3\"\n",
            "      },\n",
            "      \"vectorIndexConfig\": {\n",
            "        \"skip\": false,\n",
            "        \"cleanupIntervalSeconds\": 300,\n",
            "        \"maxConnections\": 64,\n",
            "        \"efConstruction\": 128,\n",
            "        \"ef\": -1,\n",
            "        \"dynamicEfMin\": 100,\n",
            "        \"dynamicEfMax\": 500,\n",
            "        \"dynamicEfFactor\": 8,\n",
            "        \"vectorCacheMaxObjects\": 2000000,\n",
            "        \"flatSearchCutoff\": 40000\n",
            "      },\n",
            "      \"vectorIndexType\": \"hnsw\",\n",
            "      \"vectorizer\": \"none\"\n",
            "    }\n",
            "  ]\n",
            "}\n"
          ]
        }
      ]
    },
    {
      "cell_type": "code",
      "source": [
        "client.schema.property.create('Product', product_class_schema['properties'][4])\n"
      ],
      "metadata": {
        "id": "AIJCCoJRmc-n"
      },
      "execution_count": 44,
      "outputs": []
    },
    {
      "cell_type": "code",
      "source": [
        "prettify(client.schema.get())"
      ],
      "metadata": {
        "colab": {
          "base_uri": "https://localhost:8080/"
        },
        "id": "oWhTCS5XmsEy",
        "outputId": "3a9d9a3a-1c6a-4a3c-8b1a-0393f6be3af8"
      },
      "execution_count": 45,
      "outputs": [
        {
          "output_type": "stream",
          "name": "stdout",
          "text": [
            "{\n",
            "  \"classes\": [\n",
            "    {\n",
            "      \"class\": \"Product\",\n",
            "      \"description\": \"A Product class to store the product information and its reviewers\",\n",
            "      \"invertedIndexConfig\": {\n",
            "        \"bm25\": {\n",
            "          \"b\": 0.75,\n",
            "          \"k1\": 1.2\n",
            "        },\n",
            "        \"cleanupIntervalSeconds\": 60,\n",
            "        \"stopwords\": {\n",
            "          \"additions\": null,\n",
            "          \"preset\": \"en\",\n",
            "          \"removals\": null\n",
            "        }\n",
            "      },\n",
            "      \"properties\": [\n",
            "        {\n",
            "          \"dataType\": [\n",
            "            \"string\"\n",
            "          ],\n",
            "          \"description\": \"product id from amazon\",\n",
            "          \"name\": \"asin\",\n",
            "          \"tokenization\": \"word\"\n",
            "        },\n",
            "        {\n",
            "          \"dataType\": [\n",
            "            \"text\"\n",
            "          ],\n",
            "          \"description\": \"The title of the product\",\n",
            "          \"name\": \"title\",\n",
            "          \"tokenization\": \"word\"\n",
            "        },\n",
            "        {\n",
            "          \"dataType\": [\n",
            "            \"text\"\n",
            "          ],\n",
            "          \"description\": \"The product description\",\n",
            "          \"name\": \"description\",\n",
            "          \"tokenization\": \"word\"\n",
            "        },\n",
            "        {\n",
            "          \"dataType\": [\n",
            "            \"number\"\n",
            "          ],\n",
            "          \"description\": \"The price of the wine in dollars\",\n",
            "          \"name\": \"price\"\n",
            "        },\n",
            "        {\n",
            "          \"dataType\": [\n",
            "            \"Review\"\n",
            "          ],\n",
            "          \"description\": \"List of reviews this product listing has \",\n",
            "          \"name\": \"hasReviews\"\n",
            "        }\n",
            "      ],\n",
            "      \"shardingConfig\": {\n",
            "        \"virtualPerPhysical\": 128,\n",
            "        \"desiredCount\": 1,\n",
            "        \"actualCount\": 1,\n",
            "        \"desiredVirtualCount\": 128,\n",
            "        \"actualVirtualCount\": 128,\n",
            "        \"key\": \"_id\",\n",
            "        \"strategy\": \"hash\",\n",
            "        \"function\": \"murmur3\"\n",
            "      },\n",
            "      \"vectorIndexConfig\": {\n",
            "        \"skip\": false,\n",
            "        \"cleanupIntervalSeconds\": 300,\n",
            "        \"maxConnections\": 64,\n",
            "        \"efConstruction\": 128,\n",
            "        \"ef\": -1,\n",
            "        \"dynamicEfMin\": 100,\n",
            "        \"dynamicEfMax\": 500,\n",
            "        \"dynamicEfFactor\": 8,\n",
            "        \"vectorCacheMaxObjects\": 2000000,\n",
            "        \"flatSearchCutoff\": 40000\n",
            "      },\n",
            "      \"vectorIndexType\": \"hnsw\",\n",
            "      \"vectorizer\": \"none\"\n",
            "    },\n",
            "    {\n",
            "      \"class\": \"Review\",\n",
            "      \"description\": \"An Review class to store the review information\",\n",
            "      \"invertedIndexConfig\": {\n",
            "        \"bm25\": {\n",
            "          \"b\": 0.75,\n",
            "          \"k1\": 1.2\n",
            "        },\n",
            "        \"cleanupIntervalSeconds\": 60,\n",
            "        \"stopwords\": {\n",
            "          \"additions\": null,\n",
            "          \"preset\": \"en\",\n",
            "          \"removals\": null\n",
            "        }\n",
            "      },\n",
            "      \"properties\": [\n",
            "        {\n",
            "          \"dataType\": [\n",
            "            \"number\"\n",
            "          ],\n",
            "          \"description\": \"overall score from user \",\n",
            "          \"name\": \"overall\"\n",
            "        },\n",
            "        {\n",
            "          \"dataType\": [\n",
            "            \"text\"\n",
            "          ],\n",
            "          \"description\": \"review text\",\n",
            "          \"name\": \"reviewText\",\n",
            "          \"tokenization\": \"word\"\n",
            "        },\n",
            "        {\n",
            "          \"dataType\": [\n",
            "            \"text\"\n",
            "          ],\n",
            "          \"description\": \"reviewer provided summary of review\",\n",
            "          \"name\": \"summary\",\n",
            "          \"tokenization\": \"word\"\n",
            "        },\n",
            "        {\n",
            "          \"dataType\": [\n",
            "            \"Product\"\n",
            "          ],\n",
            "          \"description\": \"The product of the review\",\n",
            "          \"name\": \"ofProduct\"\n",
            "        }\n",
            "      ],\n",
            "      \"shardingConfig\": {\n",
            "        \"virtualPerPhysical\": 128,\n",
            "        \"desiredCount\": 1,\n",
            "        \"actualCount\": 1,\n",
            "        \"desiredVirtualCount\": 128,\n",
            "        \"actualVirtualCount\": 128,\n",
            "        \"key\": \"_id\",\n",
            "        \"strategy\": \"hash\",\n",
            "        \"function\": \"murmur3\"\n",
            "      },\n",
            "      \"vectorIndexConfig\": {\n",
            "        \"skip\": false,\n",
            "        \"cleanupIntervalSeconds\": 300,\n",
            "        \"maxConnections\": 64,\n",
            "        \"efConstruction\": 128,\n",
            "        \"ef\": -1,\n",
            "        \"dynamicEfMin\": 100,\n",
            "        \"dynamicEfMax\": 500,\n",
            "        \"dynamicEfFactor\": 8,\n",
            "        \"vectorCacheMaxObjects\": 2000000,\n",
            "        \"flatSearchCutoff\": 40000\n",
            "      },\n",
            "      \"vectorIndexType\": \"hnsw\",\n",
            "      \"vectorizer\": \"none\"\n",
            "    }\n",
            "  ]\n",
            "}\n"
          ]
        }
      ]
    },
    {
      "cell_type": "code",
      "source": [
        "schema = client.schema.get() # save schema\n",
        "client.schema.delete_all() # delete all classes\n",
        "prettify(client.schema.get())"
      ],
      "metadata": {
        "colab": {
          "base_uri": "https://localhost:8080/"
        },
        "id": "HPArZMR4m23i",
        "outputId": "e90018d6-1cbe-4a49-965c-2c41b41d8189"
      },
      "execution_count": 37,
      "outputs": [
        {
          "output_type": "stream",
          "name": "stdout",
          "text": [
            "{\n",
            "  \"classes\": []\n",
            "}\n"
          ]
        }
      ]
    },
    {
      "cell_type": "code",
      "source": [
        "client.schema.create(schema)\n",
        "prettify(client.schema.get())"
      ],
      "metadata": {
        "id": "ofOcYi5bm5kG"
      },
      "execution_count": null,
      "outputs": []
    }
  ]
}